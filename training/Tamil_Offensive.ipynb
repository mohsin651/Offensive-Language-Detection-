{
  "cells": [
    {
      "cell_type": "code",
      "execution_count": null,
      "metadata": {
        "id": "v1bFKNU1MtgJ"
      },
      "outputs": [],
      "source": [
        "import pandas as pd\n",
        "import matplotlib.pyplot as plt\n",
        "from sklearn import linear_model\n",
        "from sklearn.model_selection import train_test_split"
      ]
    },
    {
      "cell_type": "code",
      "execution_count": null,
      "metadata": {
        "colab": {
          "base_uri": "https://localhost:8080/"
        },
        "id": "t33fjA-FCkH5",
        "outputId": "7cf07cd4-552f-4926-d98a-42e30cfc36e9"
      },
      "outputs": [
        {
          "output_type": "stream",
          "name": "stdout",
          "text": [
            "Looking in indexes: https://pypi.org/simple, https://us-python.pkg.dev/colab-wheels/public/simple/\n",
            "Collecting indic-nlp-library\n",
            "  Downloading indic_nlp_library-0.81-py3-none-any.whl (40 kB)\n",
            "\u001b[K     |████████████████████████████████| 40 kB 3.1 MB/s \n",
            "\u001b[?25hRequirement already satisfied: pandas in /usr/local/lib/python3.7/dist-packages (from indic-nlp-library) (1.3.5)\n",
            "Requirement already satisfied: numpy in /usr/local/lib/python3.7/dist-packages (from indic-nlp-library) (1.21.6)\n",
            "Collecting morfessor\n",
            "  Downloading Morfessor-2.0.6-py3-none-any.whl (35 kB)\n",
            "Collecting sphinx-argparse\n",
            "  Downloading sphinx_argparse-0.3.1-py2.py3-none-any.whl (12 kB)\n",
            "Collecting sphinx-rtd-theme\n",
            "  Downloading sphinx_rtd_theme-1.0.0-py2.py3-none-any.whl (2.8 MB)\n",
            "\u001b[K     |████████████████████████████████| 2.8 MB 11.1 MB/s \n",
            "\u001b[?25hRequirement already satisfied: python-dateutil>=2.7.3 in /usr/local/lib/python3.7/dist-packages (from pandas->indic-nlp-library) (2.8.2)\n",
            "Requirement already satisfied: pytz>=2017.3 in /usr/local/lib/python3.7/dist-packages (from pandas->indic-nlp-library) (2022.1)\n",
            "Requirement already satisfied: six>=1.5 in /usr/local/lib/python3.7/dist-packages (from python-dateutil>=2.7.3->pandas->indic-nlp-library) (1.15.0)\n",
            "Requirement already satisfied: sphinx>=1.2.0 in /usr/local/lib/python3.7/dist-packages (from sphinx-argparse->indic-nlp-library) (1.8.6)\n",
            "Requirement already satisfied: snowballstemmer>=1.1 in /usr/local/lib/python3.7/dist-packages (from sphinx>=1.2.0->sphinx-argparse->indic-nlp-library) (2.2.0)\n",
            "Requirement already satisfied: requests>=2.0.0 in /usr/local/lib/python3.7/dist-packages (from sphinx>=1.2.0->sphinx-argparse->indic-nlp-library) (2.23.0)\n",
            "Requirement already satisfied: alabaster<0.8,>=0.7 in /usr/local/lib/python3.7/dist-packages (from sphinx>=1.2.0->sphinx-argparse->indic-nlp-library) (0.7.12)\n",
            "Requirement already satisfied: sphinxcontrib-websupport in /usr/local/lib/python3.7/dist-packages (from sphinx>=1.2.0->sphinx-argparse->indic-nlp-library) (1.2.4)\n",
            "Requirement already satisfied: setuptools in /usr/local/lib/python3.7/dist-packages (from sphinx>=1.2.0->sphinx-argparse->indic-nlp-library) (57.4.0)\n",
            "Requirement already satisfied: Pygments>=2.0 in /usr/local/lib/python3.7/dist-packages (from sphinx>=1.2.0->sphinx-argparse->indic-nlp-library) (2.6.1)\n",
            "Requirement already satisfied: docutils<0.18,>=0.11 in /usr/local/lib/python3.7/dist-packages (from sphinx>=1.2.0->sphinx-argparse->indic-nlp-library) (0.17.1)\n",
            "Requirement already satisfied: babel!=2.0,>=1.3 in /usr/local/lib/python3.7/dist-packages (from sphinx>=1.2.0->sphinx-argparse->indic-nlp-library) (2.10.2)\n",
            "Requirement already satisfied: imagesize in /usr/local/lib/python3.7/dist-packages (from sphinx>=1.2.0->sphinx-argparse->indic-nlp-library) (1.3.0)\n",
            "Requirement already satisfied: packaging in /usr/local/lib/python3.7/dist-packages (from sphinx>=1.2.0->sphinx-argparse->indic-nlp-library) (21.3)\n",
            "Requirement already satisfied: Jinja2>=2.3 in /usr/local/lib/python3.7/dist-packages (from sphinx>=1.2.0->sphinx-argparse->indic-nlp-library) (2.11.3)\n",
            "Requirement already satisfied: MarkupSafe>=0.23 in /usr/local/lib/python3.7/dist-packages (from Jinja2>=2.3->sphinx>=1.2.0->sphinx-argparse->indic-nlp-library) (2.0.1)\n",
            "Requirement already satisfied: certifi>=2017.4.17 in /usr/local/lib/python3.7/dist-packages (from requests>=2.0.0->sphinx>=1.2.0->sphinx-argparse->indic-nlp-library) (2022.6.15)\n",
            "Requirement already satisfied: chardet<4,>=3.0.2 in /usr/local/lib/python3.7/dist-packages (from requests>=2.0.0->sphinx>=1.2.0->sphinx-argparse->indic-nlp-library) (3.0.4)\n",
            "Requirement already satisfied: idna<3,>=2.5 in /usr/local/lib/python3.7/dist-packages (from requests>=2.0.0->sphinx>=1.2.0->sphinx-argparse->indic-nlp-library) (2.10)\n",
            "Requirement already satisfied: urllib3!=1.25.0,!=1.25.1,<1.26,>=1.21.1 in /usr/local/lib/python3.7/dist-packages (from requests>=2.0.0->sphinx>=1.2.0->sphinx-argparse->indic-nlp-library) (1.24.3)\n",
            "Requirement already satisfied: pyparsing!=3.0.5,>=2.0.2 in /usr/local/lib/python3.7/dist-packages (from packaging->sphinx>=1.2.0->sphinx-argparse->indic-nlp-library) (3.0.9)\n",
            "Requirement already satisfied: sphinxcontrib-serializinghtml in /usr/local/lib/python3.7/dist-packages (from sphinxcontrib-websupport->sphinx>=1.2.0->sphinx-argparse->indic-nlp-library) (1.1.5)\n",
            "Installing collected packages: sphinx-rtd-theme, sphinx-argparse, morfessor, indic-nlp-library\n",
            "Successfully installed indic-nlp-library-0.81 morfessor-2.0.6 sphinx-argparse-0.3.1 sphinx-rtd-theme-1.0.0\n"
          ]
        }
      ],
      "source": [
        "!pip install indic-nlp-library"
      ]
    },
    {
      "cell_type": "code",
      "execution_count": null,
      "metadata": {
        "colab": {
          "base_uri": "https://localhost:8080/"
        },
        "id": "ZmmfvncPNGq5",
        "outputId": "7a0c2453-c053-4b1b-9b27-e53be89879f3"
      },
      "outputs": [
        {
          "output_type": "stream",
          "name": "stdout",
          "text": [
            "           id                                               text category\n",
            "0        tam1  திருமலை நாயக்கர் பேரவை சார்பாக படம் வெற்றி பெற...      NOT\n",
            "1        tam2  இந்த ட்ரெய்லர் கூட பார்க்கிற மாதிரி இல்லை.. இத...      OFF\n",
            "2        tam3  மைசூரு செட்டியார் சமூகத்தின் சார்பாக இப்படம் வ...      NOT\n",
            "3        tam4  மொத்த சாதியும் ஒரு சாதிக்கு எதிரா நிக்குது.......      OFF\n",
            "4        tam5                     only for விஜய் சேதுபதி and STR      NOT\n",
            "...       ...                                                ...      ...\n",
            "5875  tam5876  இப்போதான் ஜாதி பிரச்சினை இல்லாம இருக்கு இப்போ ...      NOT\n",
            "5876  tam5877  இது ஒரு சாதி ரீதியான படம் இல்லை தான் செல்லும் ...      NOT\n",
            "5877  tam5878  கதை தெரியவில்லை  இருந்தாலும் மாறுபட்ட சிந்தனை ...      NOT\n",
            "5878  tam5879  அட பரவால்லையே 8.5 டிஸ்லைக்ஸ் போட்ருக்கானுங்க.....      OFF\n",
            "5879  tam5880  உதயநிதிக்கு நடிப்பு வரலனு சொல்ரவங்க லைக் போடுங...      NOT\n",
            "\n",
            "[5880 rows x 3 columns]\n"
          ]
        }
      ],
      "source": [
        "df = pd.read_csv('/content/tamil_offensive_train (1).tsv',sep = '\\t')\n",
        "print(df)"
      ]
    },
    {
      "cell_type": "code",
      "execution_count": null,
      "metadata": {
        "colab": {
          "base_uri": "https://localhost:8080/"
        },
        "id": "rLd8zA4NNMa_",
        "outputId": "48e6de9a-5551-4081-812a-8afe7898dbdc"
      },
      "outputs": [
        {
          "output_type": "stream",
          "name": "stdout",
          "text": [
            "Looking in indexes: https://pypi.org/simple, https://us-python.pkg.dev/colab-wheels/public/simple/\n",
            "Collecting stanza\n",
            "  Downloading stanza-1.4.0-py3-none-any.whl (574 kB)\n",
            "\u001b[K     |████████████████████████████████| 574 kB 5.3 MB/s \n",
            "\u001b[?25hRequirement already satisfied: torch>=1.3.0 in /usr/local/lib/python3.7/dist-packages (from stanza) (1.11.0+cu113)\n",
            "Collecting emoji\n",
            "  Downloading emoji-1.7.0.tar.gz (175 kB)\n",
            "\u001b[K     |████████████████████████████████| 175 kB 53.9 MB/s \n",
            "\u001b[?25hRequirement already satisfied: protobuf in /usr/local/lib/python3.7/dist-packages (from stanza) (3.17.3)\n",
            "Requirement already satisfied: tqdm in /usr/local/lib/python3.7/dist-packages (from stanza) (4.64.0)\n",
            "Collecting transformers\n",
            "  Downloading transformers-4.20.1-py3-none-any.whl (4.4 MB)\n",
            "\u001b[K     |████████████████████████████████| 4.4 MB 46.0 MB/s \n",
            "\u001b[?25hRequirement already satisfied: numpy in /usr/local/lib/python3.7/dist-packages (from stanza) (1.21.6)\n",
            "Requirement already satisfied: requests in /usr/local/lib/python3.7/dist-packages (from stanza) (2.23.0)\n",
            "Requirement already satisfied: six in /usr/local/lib/python3.7/dist-packages (from stanza) (1.15.0)\n",
            "Requirement already satisfied: typing-extensions in /usr/local/lib/python3.7/dist-packages (from torch>=1.3.0->stanza) (4.1.1)\n",
            "Requirement already satisfied: chardet<4,>=3.0.2 in /usr/local/lib/python3.7/dist-packages (from requests->stanza) (3.0.4)\n",
            "Requirement already satisfied: certifi>=2017.4.17 in /usr/local/lib/python3.7/dist-packages (from requests->stanza) (2022.6.15)\n",
            "Requirement already satisfied: urllib3!=1.25.0,!=1.25.1,<1.26,>=1.21.1 in /usr/local/lib/python3.7/dist-packages (from requests->stanza) (1.24.3)\n",
            "Requirement already satisfied: idna<3,>=2.5 in /usr/local/lib/python3.7/dist-packages (from requests->stanza) (2.10)\n",
            "Collecting pyyaml>=5.1\n",
            "  Downloading PyYAML-6.0-cp37-cp37m-manylinux_2_5_x86_64.manylinux1_x86_64.manylinux_2_12_x86_64.manylinux2010_x86_64.whl (596 kB)\n",
            "\u001b[K     |████████████████████████████████| 596 kB 55.9 MB/s \n",
            "\u001b[?25hRequirement already satisfied: filelock in /usr/local/lib/python3.7/dist-packages (from transformers->stanza) (3.7.1)\n",
            "Requirement already satisfied: regex!=2019.12.17 in /usr/local/lib/python3.7/dist-packages (from transformers->stanza) (2022.6.2)\n",
            "Collecting tokenizers!=0.11.3,<0.13,>=0.11.1\n",
            "  Downloading tokenizers-0.12.1-cp37-cp37m-manylinux_2_12_x86_64.manylinux2010_x86_64.whl (6.6 MB)\n",
            "\u001b[K     |████████████████████████████████| 6.6 MB 32.1 MB/s \n",
            "\u001b[?25hRequirement already satisfied: packaging>=20.0 in /usr/local/lib/python3.7/dist-packages (from transformers->stanza) (21.3)\n",
            "Requirement already satisfied: importlib-metadata in /usr/local/lib/python3.7/dist-packages (from transformers->stanza) (4.11.4)\n",
            "Collecting huggingface-hub<1.0,>=0.1.0\n",
            "  Downloading huggingface_hub-0.8.1-py3-none-any.whl (101 kB)\n",
            "\u001b[K     |████████████████████████████████| 101 kB 12.7 MB/s \n",
            "\u001b[?25hRequirement already satisfied: pyparsing!=3.0.5,>=2.0.2 in /usr/local/lib/python3.7/dist-packages (from packaging>=20.0->transformers->stanza) (3.0.9)\n",
            "Requirement already satisfied: zipp>=0.5 in /usr/local/lib/python3.7/dist-packages (from importlib-metadata->transformers->stanza) (3.8.0)\n",
            "Building wheels for collected packages: emoji\n",
            "  Building wheel for emoji (setup.py) ... \u001b[?25l\u001b[?25hdone\n",
            "  Created wheel for emoji: filename=emoji-1.7.0-py3-none-any.whl size=171046 sha256=518501ed4c5ef87de0e2c981ab36387b85c0f1afc4db49a5883a6c11e369427d\n",
            "  Stored in directory: /root/.cache/pip/wheels/8a/4e/b6/57b01db010d17ef6ea9b40300af725ef3e210cb1acfb7ac8b6\n",
            "Successfully built emoji\n",
            "Installing collected packages: pyyaml, tokenizers, huggingface-hub, transformers, emoji, stanza\n",
            "  Attempting uninstall: pyyaml\n",
            "    Found existing installation: PyYAML 3.13\n",
            "    Uninstalling PyYAML-3.13:\n",
            "      Successfully uninstalled PyYAML-3.13\n",
            "Successfully installed emoji-1.7.0 huggingface-hub-0.8.1 pyyaml-6.0 stanza-1.4.0 tokenizers-0.12.1 transformers-4.20.1\n"
          ]
        }
      ],
      "source": [
        "!pip install stanza"
      ]
    },
    {
      "cell_type": "code",
      "execution_count": null,
      "metadata": {
        "id": "ijbTGxF8NSM8"
      },
      "outputs": [],
      "source": [
        "import stanza"
      ]
    },
    {
      "cell_type": "code",
      "execution_count": null,
      "metadata": {
        "colab": {
          "base_uri": "https://localhost:8080/",
          "height": 116,
          "referenced_widgets": [
            "c4a34807441341c0a0447841152c90cb",
            "ac3bfc8ed1a047258046a4091c381da4",
            "154b6db2181048a5b3397ebdbc5e1038",
            "d47c48ea0c5144acbe290586386aab3a",
            "828f21263dbd479e8f48c5117b5af1e5",
            "03428cc4a1b1489e87dc820c4d845283",
            "aa84c972229c4feca27c95312744ae49",
            "e2d32b7b82d34429b8997e893e16a83e",
            "10dc48e34596462ba975c10a945abae8",
            "064ed1eef1ba418f94a662ab4350bd5f",
            "e9d36f3ae7204c16b073dce6aa153351",
            "c7b7e013bbf24f3fa3ba8cac21f41508",
            "18c0af9393524d519aacbdfc5e5637ea",
            "0ec996d3e9b0425f89f79da84f9b4c56",
            "8d2900ad16f74077af34b4a5232170cc",
            "f9b39decbbf24e679d8979c229007a45",
            "1ea46be46e604b2abcf56be4ac6b5dd5",
            "b01c82eae2084c4399ecdfdd8c24e6c4",
            "85cb7f8ac7f94e9ca61856079edb63bd",
            "1606eded219b43c0933a4f73c9f06403",
            "da777c4506024a60a10ba70115747046",
            "a2a82b29d9334463935aa20d26109357"
          ]
        },
        "id": "p7c2U4BBNd2A",
        "outputId": "f91fa6be-d606-43f2-c69d-1ff11e1f2ce1"
      },
      "outputs": [
        {
          "output_type": "display_data",
          "data": {
            "text/plain": [
              "Downloading https://raw.githubusercontent.com/stanfordnlp/stanza-resources/main/resources_1.4.0.json:   0%|   …"
            ],
            "application/vnd.jupyter.widget-view+json": {
              "version_major": 2,
              "version_minor": 0,
              "model_id": "c4a34807441341c0a0447841152c90cb"
            }
          },
          "metadata": {}
        },
        {
          "output_type": "stream",
          "name": "stderr",
          "text": [
            "2022-06-25 08:28:11 INFO: Downloading default packages for language: ta (Tamil)...\n"
          ]
        },
        {
          "output_type": "display_data",
          "data": {
            "text/plain": [
              "Downloading https://huggingface.co/stanfordnlp/stanza-ta/resolve/v1.4.0/models/default.zip:   0%|          | 0…"
            ],
            "application/vnd.jupyter.widget-view+json": {
              "version_major": 2,
              "version_minor": 0,
              "model_id": "c7b7e013bbf24f3fa3ba8cac21f41508"
            }
          },
          "metadata": {}
        },
        {
          "output_type": "stream",
          "name": "stderr",
          "text": [
            "2022-06-25 08:28:21 INFO: Finished downloading models and saved to /root/stanza_resources.\n"
          ]
        }
      ],
      "source": [
        "stanza.download('ta')"
      ]
    },
    {
      "cell_type": "code",
      "execution_count": null,
      "metadata": {
        "colab": {
          "base_uri": "https://localhost:8080/",
          "height": 327,
          "referenced_widgets": [
            "85972b18351d49d1be4fb0e2a531acfc",
            "baea9c87f3424335a5f362c4a940d53c",
            "7f463908d0374733bfb98414f6333b94",
            "65014023d5c549fe96c54225a67b2dcd",
            "1982a567a85b40818f76282a287c2cf0",
            "8910895b8d8e44c89a81cc7c97f0caa5",
            "566acf52de0b4d1ab7c68530d74c936f",
            "dbfb7eb66c5c41518462344d77b72094",
            "af315fcc84bf4237a0941b6fdfe93247",
            "11cdea487ab24e4cb72bd3f6ffc77c44",
            "56152265a9cd454cb5e639238cba8471"
          ]
        },
        "id": "DBdEjarQNsuI",
        "outputId": "a64262b5-b239-4ed6-dc14-3c43b14aaf62"
      },
      "outputs": [
        {
          "output_type": "display_data",
          "data": {
            "text/plain": [
              "Downloading https://raw.githubusercontent.com/stanfordnlp/stanza-resources/main/resources_1.4.0.json:   0%|   …"
            ],
            "application/vnd.jupyter.widget-view+json": {
              "version_major": 2,
              "version_minor": 0,
              "model_id": "85972b18351d49d1be4fb0e2a531acfc"
            }
          },
          "metadata": {}
        },
        {
          "output_type": "stream",
          "name": "stderr",
          "text": [
            "2022-06-25 08:28:22 INFO: Loading these models for language: ta (Tamil):\n",
            "=======================\n",
            "| Processor | Package |\n",
            "-----------------------\n",
            "| tokenize  | ttb     |\n",
            "| mwt       | ttb     |\n",
            "| pos       | ttb     |\n",
            "| lemma     | ttb     |\n",
            "=======================\n",
            "\n",
            "2022-06-25 08:28:22 INFO: Use device: cpu\n",
            "2022-06-25 08:28:22 INFO: Loading: tokenize\n",
            "2022-06-25 08:28:22 INFO: Loading: mwt\n",
            "2022-06-25 08:28:22 INFO: Loading: pos\n",
            "2022-06-25 08:28:23 INFO: Loading: lemma\n",
            "2022-06-25 08:28:23 INFO: Done loading processors!\n"
          ]
        }
      ],
      "source": [
        "nlp = stanza.Pipeline(lang='ta', processors='tokenize,mwt,pos,lemma')"
      ]
    },
    {
      "cell_type": "code",
      "execution_count": null,
      "metadata": {
        "id": "QnmUaB6wP68J"
      },
      "outputs": [],
      "source": [
        "def lemmatize_text(str):\n",
        "  doc= nlp(str)\n",
        "  List= {word.lemma for sent in doc.sentences for word in sent.words }\n",
        "  s= ' '\n",
        "  s = s.join(List)\n",
        "  return s"
      ]
    },
    {
      "cell_type": "code",
      "execution_count": null,
      "metadata": {
        "id": "9-MzIcWvrVnH"
      },
      "outputs": [],
      "source": [
        "df['text'] = df.text.apply(lemmatize_text)"
      ]
    },
    {
      "cell_type": "code",
      "execution_count": null,
      "metadata": {
        "id": "2SxlVK5wtd9e",
        "colab": {
          "base_uri": "https://localhost:8080/"
        },
        "outputId": "557130d5-9a78-4701-c285-44402f16de6b"
      },
      "outputs": [
        {
          "output_type": "stream",
          "name": "stdout",
          "text": [
            "வெற்றி வாழ் பெறு திருமலை பேரவை படம் சார்பு நாயக்கர்\n"
          ]
        }
      ],
      "source": [
        "print(df['text'][0])"
      ]
    },
    {
      "cell_type": "code",
      "execution_count": null,
      "metadata": {
        "id": "-mRLw7DuHDO4"
      },
      "outputs": [],
      "source": [
        "def zeroorone(s):\n",
        "  if(s == 'NOT'):\n",
        "    return 0\n",
        "  elif(s=='OFF'):\n",
        "    return 1\n",
        "  else :\n",
        "    return 0"
      ]
    },
    {
      "cell_type": "code",
      "execution_count": null,
      "metadata": {
        "id": "_n_KSr1lGljX"
      },
      "outputs": [],
      "source": [
        "df['category'] = df.category.apply(zeroorone)"
      ]
    },
    {
      "cell_type": "code",
      "execution_count": null,
      "metadata": {
        "id": "9WtP6NgYKCdW"
      },
      "outputs": [],
      "source": [
        "from urllib import response\n",
        "from sklearn.feature_extraction.text import TfidfVectorizer\n",
        "tfidf = TfidfVectorizer()\n",
        "text = df['text'].values"
      ]
    },
    {
      "cell_type": "code",
      "execution_count": null,
      "metadata": {
        "id": "dI5PGN3ovNgj"
      },
      "outputs": [],
      "source": [
        "import joblib\n",
        "from sklearn import linear_model\n",
        "from sklearn.model_selection import train_test_split"
      ]
    },
    {
      "cell_type": "code",
      "execution_count": null,
      "metadata": {
        "id": "QLO7RFUWuF8n"
      },
      "outputs": [],
      "source": [
        "response = tfidf.fit_transform(text)"
      ]
    },
    {
      "cell_type": "code",
      "execution_count": null,
      "metadata": {
        "id": "sezE2C9GmdxH",
        "colab": {
          "base_uri": "https://localhost:8080/"
        },
        "outputId": "1fa7966b-7e51-479b-d818-5ae3bf20aea3"
      },
      "outputs": [
        {
          "output_type": "execute_result",
          "data": {
            "text/plain": [
              "['tfidf.pkl']"
            ]
          },
          "metadata": {},
          "execution_count": 16
        }
      ],
      "source": [
        "joblib.dump(tfidf,'tfidf.pkl')"
      ]
    },
    {
      "cell_type": "code",
      "execution_count": null,
      "metadata": {
        "id": "9PWvxGhVOw9L",
        "colab": {
          "base_uri": "https://localhost:8080/"
        },
        "outputId": "cbd8f363-91d3-49eb-81c2-dd85d81576fc"
      },
      "outputs": [
        {
          "output_type": "execute_result",
          "data": {
            "text/plain": [
              "(5880, 3339)"
            ]
          },
          "metadata": {},
          "execution_count": 17
        }
      ],
      "source": [
        "response.shape"
      ]
    },
    {
      "cell_type": "code",
      "execution_count": null,
      "metadata": {
        "id": "-C2BNnjTugK8"
      },
      "outputs": [],
      "source": [
        "y = df.category.values"
      ]
    },
    {
      "cell_type": "code",
      "execution_count": null,
      "metadata": {
        "id": "vSZi74mU3i85"
      },
      "outputs": [],
      "source": [
        "reg = linear_model.LogisticRegression(C=200.0,penalty= 'l2',solver = 'saga',multi_class = 'ovr', warm_start = True)"
      ]
    },
    {
      "cell_type": "code",
      "execution_count": null,
      "metadata": {
        "id": "3r-B00xm3oLe"
      },
      "outputs": [],
      "source": [
        "x_train,x_test,y_train,y_test = train_test_split(response, y,test_size = 0.2, random_state = 4)"
      ]
    },
    {
      "cell_type": "code",
      "execution_count": null,
      "metadata": {
        "id": "Jxu9FwCE4rkJ",
        "colab": {
          "base_uri": "https://localhost:8080/"
        },
        "outputId": "e3dbd8ae-add4-4295-d92a-0b3fa29f7467"
      },
      "outputs": [
        {
          "output_type": "stream",
          "name": "stderr",
          "text": [
            "/usr/local/lib/python3.7/dist-packages/sklearn/linear_model/_sag.py:354: ConvergenceWarning: The max_iter was reached which means the coef_ did not converge\n",
            "  ConvergenceWarning,\n"
          ]
        },
        {
          "output_type": "execute_result",
          "data": {
            "text/plain": [
              "LogisticRegression(C=200.0, multi_class='ovr', solver='saga', warm_start=True)"
            ]
          },
          "metadata": {},
          "execution_count": 21
        }
      ],
      "source": [
        "reg.fit(response,y)"
      ]
    },
    {
      "cell_type": "code",
      "execution_count": null,
      "metadata": {
        "id": "9bXBLVYSnDO7",
        "colab": {
          "base_uri": "https://localhost:8080/"
        },
        "outputId": "04d90b0e-01f6-4340-80fe-1aded70c1df2"
      },
      "outputs": [
        {
          "output_type": "execute_result",
          "data": {
            "text/plain": [
              "['linearmodel.pkl']"
            ]
          },
          "metadata": {},
          "execution_count": 22
        }
      ],
      "source": [
        "joblib.dump(reg,'linearmodel.pkl')"
      ]
    },
    {
      "cell_type": "code",
      "execution_count": null,
      "metadata": {
        "id": "b6BtDuIHPdqS",
        "colab": {
          "base_uri": "https://localhost:8080/"
        },
        "outputId": "e5151180-58e1-4597-b6e8-a7acf5f7a5be"
      },
      "outputs": [
        {
          "output_type": "execute_result",
          "data": {
            "text/plain": [
              "0.907312925170068"
            ]
          },
          "metadata": {},
          "execution_count": 23
        }
      ],
      "source": [
        "reg.score(x_test,y_test)"
      ]
    },
    {
      "cell_type": "code",
      "execution_count": null,
      "metadata": {
        "id": "I2hSJ_spPzun"
      },
      "outputs": [],
      "source": [
        "from sklearn.metrics import classification_report"
      ]
    },
    {
      "cell_type": "code",
      "execution_count": null,
      "metadata": {
        "id": "2mQ8zwXMcN9V"
      },
      "outputs": [],
      "source": [
        "df2 = pd.read_csv('./tamil_offensive_test task 1 with labels.tsv',sep = '\\t')"
      ]
    },
    {
      "cell_type": "code",
      "execution_count": null,
      "metadata": {
        "id": "UbfUQ4VMcvkK"
      },
      "outputs": [],
      "source": [
        "df2['category'] = df2.category.apply(zeroorone)"
      ]
    },
    {
      "cell_type": "code",
      "execution_count": null,
      "metadata": {
        "id": "PAcwqbu8c5Qi"
      },
      "outputs": [],
      "source": [
        "df2['text'] = df2.text.apply(lemmatize_text)"
      ]
    },
    {
      "cell_type": "code",
      "execution_count": null,
      "metadata": {
        "id": "67pa8neEooeh"
      },
      "outputs": [],
      "source": [
        "#tfidf_from_joblib = joblib.load('tfidf.pkl')"
      ]
    },
    {
      "cell_type": "code",
      "execution_count": null,
      "metadata": {
        "id": "S2fa-MGuotpe"
      },
      "outputs": [],
      "source": [
        "#reg_from_joblib = joblib.load('linearmodel.pkl')"
      ]
    },
    {
      "cell_type": "code",
      "execution_count": null,
      "metadata": {
        "id": "7jVeje36ehjo"
      },
      "outputs": [],
      "source": [
        "text1 = df2['text'].values\n",
        "response1 = tfidf.transform(text1)"
      ]
    },
    {
      "cell_type": "code",
      "execution_count": null,
      "metadata": {
        "id": "IfFYKtTjezOu",
        "colab": {
          "base_uri": "https://localhost:8080/"
        },
        "outputId": "e199beab-1687-4fa6-ccea-e1567c98fd4c"
      },
      "outputs": [
        {
          "output_type": "execute_result",
          "data": {
            "text/plain": [
              "(654, 3339)"
            ]
          },
          "metadata": {},
          "execution_count": 31
        }
      ],
      "source": [
        "response1.shape"
      ]
    },
    {
      "cell_type": "code",
      "execution_count": null,
      "metadata": {
        "id": "dL8gxmMMfFsl"
      },
      "outputs": [],
      "source": [
        "y1 = df2.category.values"
      ]
    },
    {
      "cell_type": "code",
      "execution_count": null,
      "metadata": {
        "id": "_M9dNdUKQAKT",
        "colab": {
          "base_uri": "https://localhost:8080/"
        },
        "outputId": "eb26fdc3-f608-4f49-fdab-1578ea01d9a1"
      },
      "outputs": [
        {
          "output_type": "stream",
          "name": "stdout",
          "text": [
            "              precision    recall  f1-score   support\n",
            "\n",
            "           0       0.87      0.90      0.89       536\n",
            "           1       0.47      0.39      0.43       118\n",
            "\n",
            "    accuracy                           0.81       654\n",
            "   macro avg       0.67      0.65      0.66       654\n",
            "weighted avg       0.80      0.81      0.80       654\n",
            "\n"
          ]
        }
      ],
      "source": [
        "pred = reg.predict(response1)\n",
        "print(classification_report(y1, pred))"
      ]
    },
    {
      "cell_type": "markdown",
      "source": [
        "using keras on vectors"
      ],
      "metadata": {
        "id": "adBAYLskLB0u"
      }
    },
    {
      "cell_type": "code",
      "source": [
        "pip install tensorflow"
      ],
      "metadata": {
        "id": "jPeBVbPRMynD"
      },
      "execution_count": null,
      "outputs": []
    },
    {
      "cell_type": "code",
      "source": [
        "pip install keras"
      ],
      "metadata": {
        "id": "wZaOLcbbM7rC",
        "outputId": "90190c49-85fa-4cab-abc3-62ab83f4517e",
        "colab": {
          "base_uri": "https://localhost:8080/"
        }
      },
      "execution_count": null,
      "outputs": [
        {
          "output_type": "stream",
          "name": "stdout",
          "text": [
            "Looking in indexes: https://pypi.org/simple, https://us-python.pkg.dev/colab-wheels/public/simple/\n",
            "Requirement already satisfied: keras in /usr/local/lib/python3.7/dist-packages (2.8.0)\n"
          ]
        }
      ]
    },
    {
      "cell_type": "markdown",
      "metadata": {
        "id": "6fXSpzZGxkLB"
      },
      "source": [
        "using knn "
      ]
    },
    {
      "cell_type": "code",
      "execution_count": null,
      "metadata": {
        "id": "UvJ9yqq0xrlp"
      },
      "outputs": [],
      "source": [
        "from sklearn.neighbors import KNeighborsClassifier\n",
        "knn = KNeighborsClassifier(n_neighbors=2)\n"
      ]
    },
    {
      "cell_type": "code",
      "execution_count": null,
      "metadata": {
        "id": "lUGtLy0Fx4y7"
      },
      "outputs": [],
      "source": [
        "x_train,x_test,y_train,y_test = train_test_split(response, y,test_size = 0.2, random_state = 4)"
      ]
    },
    {
      "cell_type": "code",
      "execution_count": null,
      "metadata": {
        "id": "TRQfTC1cyMeo",
        "colab": {
          "base_uri": "https://localhost:8080/"
        },
        "outputId": "ba782593-c8bf-4b40-b4fe-91e98db20182"
      },
      "outputs": [
        {
          "output_type": "execute_result",
          "data": {
            "text/plain": [
              "KNeighborsClassifier(n_neighbors=2)"
            ]
          },
          "metadata": {},
          "execution_count": 36
        }
      ],
      "source": [
        "knn.fit(response, y)"
      ]
    },
    {
      "cell_type": "code",
      "execution_count": null,
      "metadata": {
        "id": "UpBBoZkNPuKr",
        "colab": {
          "base_uri": "https://localhost:8080/"
        },
        "outputId": "d52a5933-a12b-4220-b7f4-acc8af3bb905"
      },
      "outputs": [
        {
          "output_type": "execute_result",
          "data": {
            "text/plain": [
              "['knn.pkl']"
            ]
          },
          "metadata": {},
          "execution_count": 37
        }
      ],
      "source": [
        "joblib.dump(knn,'knn.pkl')"
      ]
    },
    {
      "cell_type": "code",
      "execution_count": null,
      "metadata": {
        "id": "cjAFeQGRyZi9"
      },
      "outputs": [],
      "source": [
        "y_predict = knn.predict(response1)"
      ]
    },
    {
      "cell_type": "code",
      "execution_count": null,
      "metadata": {
        "id": "Z22yl-5uzF1h",
        "colab": {
          "base_uri": "https://localhost:8080/"
        },
        "outputId": "a48363aa-f7c7-4b1a-fa1c-3fc63e79f879"
      },
      "outputs": [
        {
          "output_type": "stream",
          "name": "stdout",
          "text": [
            "              precision    recall  f1-score   support\n",
            "\n",
            "           0       0.82      0.98      0.89       536\n",
            "           1       0.23      0.03      0.05       118\n",
            "\n",
            "    accuracy                           0.81       654\n",
            "   macro avg       0.53      0.50      0.47       654\n",
            "weighted avg       0.71      0.81      0.74       654\n",
            "\n"
          ]
        }
      ],
      "source": [
        "print(classification_report(y1, y_predict))"
      ]
    },
    {
      "cell_type": "markdown",
      "metadata": {
        "id": "GAQJAJvQgl9f"
      },
      "source": [
        "using svm"
      ]
    },
    {
      "cell_type": "code",
      "execution_count": null,
      "metadata": {
        "id": "VOQ43UPbieGT"
      },
      "outputs": [],
      "source": [
        "import numpy as np"
      ]
    },
    {
      "cell_type": "code",
      "execution_count": null,
      "metadata": {
        "id": "QehAsMXKiFUs"
      },
      "outputs": [],
      "source": [
        "# x = np.asarray(response)\n",
        "y= np.asarray(y)\n"
      ]
    },
    {
      "cell_type": "code",
      "execution_count": null,
      "metadata": {
        "id": "JgXZt8Kfr92a"
      },
      "outputs": [],
      "source": [
        "from sklearn.datasets import make_classification\n",
        "from sklearn.experimental import enable_halving_search_cv\n",
        "from sklearn.model_selection import GridSearchCV"
      ]
    },
    {
      "cell_type": "code",
      "execution_count": null,
      "metadata": {
        "id": "VUxJvNp2sQ8U"
      },
      "outputs": [],
      "source": [
        "param_grid  = { 'kernel' : ('linear' , 'poly', 'rbf', 'sigmoid', 'precomputed') , 'C': [1, 10, 100] , 'degree' : [1,2,3,4,5], 'gamma' :['scale', 'auto', 1.0 , 10.0 , 100.0] , 'coef0' : [0.0,0.5,0.05,1,2.0,6.0,10.0,50.0] }"
      ]
    },
    {
      "cell_type": "code",
      "execution_count": null,
      "metadata": {
        "id": "NguG835dj0-f"
      },
      "outputs": [],
      "source": [
        "from sklearn import svm\n",
        "# classifier = svm.SVC(random_state = 4)\n",
        "# x_train, x_test , y_train , y_test = train_test_split(response,y,test_size = 0.2,random_state = 4)\n",
        "\n",
        "# sh = GridSearchCV(classifier , param_grid , cv = 5 ).fit(x_train,y_train)\n",
        "\n"
      ]
    },
    {
      "cell_type": "code",
      "execution_count": null,
      "metadata": {
        "id": "pQJvKb1fG2oO"
      },
      "outputs": [],
      "source": [
        "# sh.best_estimator_"
      ]
    },
    {
      "cell_type": "code",
      "execution_count": null,
      "metadata": {
        "id": "CX_y2kExkkTB",
        "colab": {
          "base_uri": "https://localhost:8080/"
        },
        "outputId": "2286a110-eced-4513-85ea-cdd26d8ad426"
      },
      "outputs": [
        {
          "output_type": "execute_result",
          "data": {
            "text/plain": [
              "SVC(C=100, coef0=1.0, degree=2, kernel='poly', random_state=4)"
            ]
          },
          "metadata": {},
          "execution_count": 46
        }
      ],
      "source": [
        "from sklearn.model_selection import train_test_split\n",
        "x_train, x_test , y_train , y_test = train_test_split(response,y,test_size = 0.2,random_state = 4)\n",
        "classifier = svm.SVC(kernel = 'poly' , C = 100, degree = 2 , gamma = 'scale', coef0 = 1.0, random_state = 4)\n",
        "classifier.fit(response,y)"
      ]
    },
    {
      "cell_type": "code",
      "execution_count": null,
      "metadata": {
        "id": "mbhe5obfRZCc",
        "colab": {
          "base_uri": "https://localhost:8080/"
        },
        "outputId": "bc998638-bc34-4f2b-a7b6-f8dba8a608ec"
      },
      "outputs": [
        {
          "output_type": "execute_result",
          "data": {
            "text/plain": [
              "['svm.pkl']"
            ]
          },
          "metadata": {},
          "execution_count": 47
        }
      ],
      "source": [
        "joblib.dump(classifier,'svm.pkl')"
      ]
    },
    {
      "cell_type": "code",
      "execution_count": null,
      "metadata": {
        "id": "j70ljbhmknko"
      },
      "outputs": [],
      "source": [
        "y_predict = classifier.predict(response1)"
      ]
    },
    {
      "cell_type": "code",
      "source": [
        "print(classification_report(y1, y_predict))"
      ],
      "metadata": {
        "colab": {
          "base_uri": "https://localhost:8080/"
        },
        "id": "0BnLR-_wy9o5",
        "outputId": "cbe203a3-e867-4c99-f3d2-c64a98711310"
      },
      "execution_count": null,
      "outputs": [
        {
          "output_type": "stream",
          "name": "stdout",
          "text": [
            "              precision    recall  f1-score   support\n",
            "\n",
            "           0       0.87      0.91      0.89       536\n",
            "           1       0.48      0.36      0.42       118\n",
            "\n",
            "    accuracy                           0.81       654\n",
            "   macro avg       0.68      0.64      0.65       654\n",
            "weighted avg       0.80      0.81      0.80       654\n",
            "\n"
          ]
        }
      ]
    },
    {
      "cell_type": "markdown",
      "metadata": {
        "id": "YtGIjy85OXpV"
      },
      "source": [
        "using decision tree"
      ]
    },
    {
      "cell_type": "code",
      "execution_count": null,
      "metadata": {
        "id": "sJ3pySijPQvk"
      },
      "outputs": [],
      "source": [
        "from sklearn import tree"
      ]
    },
    {
      "cell_type": "code",
      "execution_count": null,
      "metadata": {
        "id": "lknbOt1hPLF-"
      },
      "outputs": [],
      "source": [
        "model = tree.DecisionTreeClassifier(splitter = 'random',min_samples_split = 3, random_state = 4, criterion = 'gini')"
      ]
    },
    {
      "cell_type": "code",
      "execution_count": null,
      "metadata": {
        "id": "ZTgL_hNYPWs-",
        "colab": {
          "base_uri": "https://localhost:8080/"
        },
        "outputId": "6e9c1a0d-9b3e-4b63-94f5-4f6bd733d06c"
      },
      "outputs": [
        {
          "output_type": "execute_result",
          "data": {
            "text/plain": [
              "DecisionTreeClassifier(min_samples_split=3, random_state=4, splitter='random')"
            ]
          },
          "metadata": {},
          "execution_count": 52
        }
      ],
      "source": [
        "model.fit(response,y)"
      ]
    },
    {
      "cell_type": "code",
      "execution_count": null,
      "metadata": {
        "id": "ho_tIyVgPzv-",
        "colab": {
          "base_uri": "https://localhost:8080/"
        },
        "outputId": "d3c1ca1c-c632-433f-a160-7d66ee2168ad"
      },
      "outputs": [
        {
          "output_type": "execute_result",
          "data": {
            "text/plain": [
              "['decisiontree.pkl']"
            ]
          },
          "metadata": {},
          "execution_count": 53
        }
      ],
      "source": [
        "joblib.dump(model,'decisiontree.pkl')"
      ]
    },
    {
      "cell_type": "code",
      "execution_count": null,
      "metadata": {
        "id": "dkiTGufMP4xW"
      },
      "outputs": [],
      "source": [
        "y_predict = model.predict(response1)"
      ]
    },
    {
      "cell_type": "code",
      "execution_count": null,
      "metadata": {
        "id": "P6-rbtQ1Q-tG",
        "colab": {
          "base_uri": "https://localhost:8080/"
        },
        "outputId": "5c5e6488-f74e-4a72-c76c-035c4822310b"
      },
      "outputs": [
        {
          "output_type": "stream",
          "name": "stdout",
          "text": [
            "              precision    recall  f1-score   support\n",
            "\n",
            "           0       0.87      0.90      0.89       536\n",
            "           1       0.48      0.41      0.44       118\n",
            "\n",
            "    accuracy                           0.81       654\n",
            "   macro avg       0.68      0.65      0.66       654\n",
            "weighted avg       0.80      0.81      0.81       654\n",
            "\n"
          ]
        }
      ],
      "source": [
        "print(classification_report(y1, y_predict))"
      ]
    },
    {
      "cell_type": "markdown",
      "source": [
        "using multinomial naive bayes"
      ],
      "metadata": {
        "id": "CCAbW8vgda8B"
      }
    },
    {
      "cell_type": "code",
      "source": [
        "from sklearn.naive_bayes import MultinomialNB"
      ],
      "metadata": {
        "id": "QGlozHvHdkEG"
      },
      "execution_count": null,
      "outputs": []
    },
    {
      "cell_type": "code",
      "source": [
        "clf = MultinomialNB(alpha = 0.0, fit_prior = False)"
      ],
      "metadata": {
        "id": "w_-W7VvCdqeW"
      },
      "execution_count": null,
      "outputs": []
    },
    {
      "cell_type": "code",
      "source": [
        "clf.fit(response,y)"
      ],
      "metadata": {
        "colab": {
          "base_uri": "https://localhost:8080/"
        },
        "id": "n6q8dJ3idto9",
        "outputId": "a7e2fef5-24e5-474b-fbd8-5bfaff8dbad4"
      },
      "execution_count": null,
      "outputs": [
        {
          "output_type": "stream",
          "name": "stderr",
          "text": [
            "/usr/local/lib/python3.7/dist-packages/sklearn/naive_bayes.py:557: UserWarning: alpha too small will result in numeric errors, setting alpha = 1.0e-10\n",
            "  % _ALPHA_MIN\n"
          ]
        },
        {
          "output_type": "execute_result",
          "data": {
            "text/plain": [
              "MultinomialNB(alpha=0.0, fit_prior=False)"
            ]
          },
          "metadata": {},
          "execution_count": 58
        }
      ]
    },
    {
      "cell_type": "code",
      "source": [
        "joblib.dump(clf,'mnb.pkl')"
      ],
      "metadata": {
        "colab": {
          "base_uri": "https://localhost:8080/"
        },
        "id": "M4DCu0JTdzn0",
        "outputId": "b2b76f20-c18f-4073-83ea-a3feca4a8888"
      },
      "execution_count": null,
      "outputs": [
        {
          "output_type": "execute_result",
          "data": {
            "text/plain": [
              "['mnb.pkl']"
            ]
          },
          "metadata": {},
          "execution_count": 59
        }
      ]
    },
    {
      "cell_type": "code",
      "source": [
        "y_predict = clf.predict(response1)"
      ],
      "metadata": {
        "id": "1ewwSHMld_VV"
      },
      "execution_count": null,
      "outputs": []
    },
    {
      "cell_type": "code",
      "source": [
        "print(classification_report(y1, y_predict))"
      ],
      "metadata": {
        "colab": {
          "base_uri": "https://localhost:8080/"
        },
        "id": "Mu_4v3UJeGGQ",
        "outputId": "b3f48999-cab7-4e44-f800-1116e0a1b384"
      },
      "execution_count": null,
      "outputs": [
        {
          "output_type": "stream",
          "name": "stdout",
          "text": [
            "              precision    recall  f1-score   support\n",
            "\n",
            "           0       0.89      0.76      0.82       536\n",
            "           1       0.34      0.56      0.42       118\n",
            "\n",
            "    accuracy                           0.72       654\n",
            "   macro avg       0.61      0.66      0.62       654\n",
            "weighted avg       0.79      0.72      0.75       654\n",
            "\n"
          ]
        }
      ]
    },
    {
      "cell_type": "markdown",
      "source": [
        "using random forest"
      ],
      "metadata": {
        "id": "0ZWhnNSATzE9"
      }
    },
    {
      "cell_type": "code",
      "source": [
        "from sklearn.ensemble import RandomForestClassifier"
      ],
      "metadata": {
        "id": "t6F0OqYBT099"
      },
      "execution_count": null,
      "outputs": []
    },
    {
      "cell_type": "code",
      "source": [
        "model = RandomForestClassifier(n_estimators=50 , min_samples_split = 4, min_samples_leaf = 1 ,warm_start = True ,random_state = 4, class_weight= 'balanced_subsample', verbose = 10, n_jobs = 5)\n",
        "model.fit(response,y)\n",
        "joblib.dump(model,'rf.pkl')"
      ],
      "metadata": {
        "id": "8JIHCVPHUAsS",
        "colab": {
          "base_uri": "https://localhost:8080/"
        },
        "outputId": "4b98e8e3-62cd-4cf5-9672-97ce6d533174"
      },
      "execution_count": null,
      "outputs": [
        {
          "output_type": "stream",
          "name": "stdout",
          "text": [
            "building tree 1 of 50\n",
            "building tree 2 of 50\n",
            "building tree 3 of 50\n",
            "building tree 4 of 50\n",
            "building tree 5 of 50\n"
          ]
        },
        {
          "output_type": "stream",
          "name": "stderr",
          "text": [
            "/usr/local/lib/python3.7/dist-packages/sklearn/ensemble/_forest.py:766: UserWarning: class_weight presets \"balanced\" or \"balanced_subsample\" are not recommended for warm_start if the fitted data differs from the full dataset. In order to use \"balanced\" weights, use compute_class_weight (\"balanced\", classes, y). In place of y you can use a large enough sample of the full training set target to properly estimate the class frequency distributions. Pass the resulting weights as the class_weight parameter.\n",
            "  'class_weight presets \"balanced\" or '\n",
            "[Parallel(n_jobs=5)]: Using backend ThreadingBackend with 5 concurrent workers.\n",
            "[Parallel(n_jobs=5)]: Done   3 tasks      | elapsed:    0.1s\n"
          ]
        },
        {
          "output_type": "stream",
          "name": "stdout",
          "text": [
            "building tree 6 of 50building tree 7 of 50\n",
            "\n",
            "building tree 8 of 50building tree 9 of 50building tree 10 of 50\n",
            "\n",
            "\n",
            "building tree 11 of 50\n",
            "building tree 12 of 50\n",
            "building tree 13 of 50building tree 14 of 50\n",
            "\n",
            "building tree 15 of 50\n",
            "building tree 16 of 50\n",
            "building tree 17 of 50building tree 18 of 50\n",
            "\n",
            "building tree 19 of 50\n",
            "building tree 20 of 50\n",
            "building tree 21 of 50\n"
          ]
        },
        {
          "output_type": "stream",
          "name": "stderr",
          "text": [
            "[Parallel(n_jobs=5)]: Done   8 tasks      | elapsed:    0.2s\n",
            "[Parallel(n_jobs=5)]: Done  15 tasks      | elapsed:    0.4s\n"
          ]
        },
        {
          "output_type": "stream",
          "name": "stdout",
          "text": [
            "building tree 22 of 50\n",
            "building tree 23 of 50\n",
            "building tree 24 of 50\n",
            "building tree 25 of 50\n",
            "building tree 26 of 50\n",
            "building tree 27 of 50\n",
            "building tree 28 of 50building tree 29 of 50\n",
            "\n",
            "building tree 30 of 50\n",
            "building tree 31 of 50\n"
          ]
        },
        {
          "output_type": "stream",
          "name": "stderr",
          "text": [
            "[Parallel(n_jobs=5)]: Done  22 tasks      | elapsed:    0.6s\n",
            "[Parallel(n_jobs=5)]: Done  31 tasks      | elapsed:    0.7s\n"
          ]
        },
        {
          "output_type": "stream",
          "name": "stdout",
          "text": [
            "building tree 32 of 50\n",
            "building tree 33 of 50\n",
            "building tree 34 of 50\n",
            "building tree 35 of 50\n",
            "building tree 36 of 50\n",
            "building tree 37 of 50\n",
            "building tree 38 of 50building tree 39 of 50\n",
            "\n",
            "building tree 40 of 50\n",
            "building tree 41 of 50\n",
            "building tree 42 of 50\n",
            "building tree 43 of 50\n",
            "building tree 44 of 50building tree 45 of 50\n",
            "\n",
            "building tree 46 of 50\n",
            "building tree 47 of 50\n",
            "building tree 48 of 50\n",
            "building tree 49 of 50\n",
            "building tree 50 of 50\n"
          ]
        },
        {
          "output_type": "stream",
          "name": "stderr",
          "text": [
            "[Parallel(n_jobs=5)]: Done  40 tasks      | elapsed:    1.0s\n",
            "[Parallel(n_jobs=5)]: Done  47 out of  50 | elapsed:    1.1s remaining:    0.1s\n",
            "[Parallel(n_jobs=5)]: Done  50 out of  50 | elapsed:    1.2s finished\n"
          ]
        },
        {
          "output_type": "execute_result",
          "data": {
            "text/plain": [
              "['rf.pkl']"
            ]
          },
          "metadata": {},
          "execution_count": 63
        }
      ]
    },
    {
      "cell_type": "code",
      "source": [
        "y_predict = model.predict(response1)"
      ],
      "metadata": {
        "id": "2qAE-oEeUNJt",
        "colab": {
          "base_uri": "https://localhost:8080/"
        },
        "outputId": "e478672b-9297-40a3-bbb4-1fa8701c1869"
      },
      "execution_count": null,
      "outputs": [
        {
          "output_type": "stream",
          "name": "stderr",
          "text": [
            "[Parallel(n_jobs=5)]: Using backend ThreadingBackend with 5 concurrent workers.\n",
            "[Parallel(n_jobs=5)]: Done   3 tasks      | elapsed:    0.0s\n",
            "[Parallel(n_jobs=5)]: Done   8 tasks      | elapsed:    0.0s\n",
            "[Parallel(n_jobs=5)]: Done  15 tasks      | elapsed:    0.0s\n",
            "[Parallel(n_jobs=5)]: Done  22 tasks      | elapsed:    0.0s\n",
            "[Parallel(n_jobs=5)]: Done  31 tasks      | elapsed:    0.0s\n",
            "[Parallel(n_jobs=5)]: Done  40 tasks      | elapsed:    0.0s\n",
            "[Parallel(n_jobs=5)]: Done  47 out of  50 | elapsed:    0.0s remaining:    0.0s\n",
            "[Parallel(n_jobs=5)]: Done  50 out of  50 | elapsed:    0.0s finished\n"
          ]
        }
      ]
    },
    {
      "cell_type": "code",
      "source": [
        "print(classification_report(y1, y_predict))"
      ],
      "metadata": {
        "colab": {
          "base_uri": "https://localhost:8080/"
        },
        "id": "Xd2Vt8P1UU_H",
        "outputId": "c6dbd9e3-5ec7-4f0a-9c11-7047b8976ee9"
      },
      "execution_count": null,
      "outputs": [
        {
          "output_type": "stream",
          "name": "stdout",
          "text": [
            "              precision    recall  f1-score   support\n",
            "\n",
            "           0       0.85      0.97      0.91       536\n",
            "           1       0.64      0.21      0.32       118\n",
            "\n",
            "    accuracy                           0.84       654\n",
            "   macro avg       0.74      0.59      0.61       654\n",
            "weighted avg       0.81      0.84      0.80       654\n",
            "\n"
          ]
        }
      ]
    },
    {
      "cell_type": "markdown",
      "source": [
        "using dirty_cat"
      ],
      "metadata": {
        "id": "11fU-rdTmlbX"
      }
    },
    {
      "cell_type": "code",
      "source": [
        "pip install dirty_cat"
      ],
      "metadata": {
        "id": "Z01N5i_ZnPlM",
        "colab": {
          "base_uri": "https://localhost:8080/"
        },
        "outputId": "414822ea-13d9-4b56-a558-5afeed5b1552"
      },
      "execution_count": null,
      "outputs": [
        {
          "output_type": "stream",
          "name": "stdout",
          "text": [
            "Looking in indexes: https://pypi.org/simple, https://us-python.pkg.dev/colab-wheels/public/simple/\n",
            "Collecting dirty_cat\n",
            "  Downloading dirty_cat-0.2.1-py3-none-any.whl (63 kB)\n",
            "\u001b[K     |████████████████████████████████| 63 kB 1.6 MB/s \n",
            "\u001b[?25hRequirement already satisfied: joblib in /usr/local/lib/python3.7/dist-packages (from dirty_cat) (1.1.0)\n",
            "Requirement already satisfied: requests in /usr/local/lib/python3.7/dist-packages (from dirty_cat) (2.23.0)\n",
            "Requirement already satisfied: pandas>=1.1.5 in /usr/local/lib/python3.7/dist-packages (from dirty_cat) (1.3.5)\n",
            "Requirement already satisfied: scipy>=1.2 in /usr/local/lib/python3.7/dist-packages (from dirty_cat) (1.4.1)\n",
            "Requirement already satisfied: numpy>=1.16 in /usr/local/lib/python3.7/dist-packages (from dirty_cat) (1.21.6)\n",
            "Requirement already satisfied: scikit-learn>=0.21 in /usr/local/lib/python3.7/dist-packages (from dirty_cat) (1.0.2)\n",
            "Requirement already satisfied: pytz>=2017.3 in /usr/local/lib/python3.7/dist-packages (from pandas>=1.1.5->dirty_cat) (2022.1)\n",
            "Requirement already satisfied: python-dateutil>=2.7.3 in /usr/local/lib/python3.7/dist-packages (from pandas>=1.1.5->dirty_cat) (2.8.2)\n",
            "Requirement already satisfied: six>=1.5 in /usr/local/lib/python3.7/dist-packages (from python-dateutil>=2.7.3->pandas>=1.1.5->dirty_cat) (1.15.0)\n",
            "Requirement already satisfied: threadpoolctl>=2.0.0 in /usr/local/lib/python3.7/dist-packages (from scikit-learn>=0.21->dirty_cat) (3.1.0)\n",
            "Requirement already satisfied: idna<3,>=2.5 in /usr/local/lib/python3.7/dist-packages (from requests->dirty_cat) (2.10)\n",
            "Requirement already satisfied: chardet<4,>=3.0.2 in /usr/local/lib/python3.7/dist-packages (from requests->dirty_cat) (3.0.4)\n",
            "Requirement already satisfied: certifi>=2017.4.17 in /usr/local/lib/python3.7/dist-packages (from requests->dirty_cat) (2022.6.15)\n",
            "Requirement already satisfied: urllib3!=1.25.0,!=1.25.1,<1.26,>=1.21.1 in /usr/local/lib/python3.7/dist-packages (from requests->dirty_cat) (1.24.3)\n",
            "Installing collected packages: dirty-cat\n",
            "Successfully installed dirty-cat-0.2.1\n"
          ]
        }
      ]
    },
    {
      "cell_type": "code",
      "source": [
        "from dirty_cat import SuperVectorizer\n",
        "from sklearn.pipeline import make_pipeline\n",
        "from sklearn.ensemble import RandomForestRegressor"
      ],
      "metadata": {
        "id": "Dk7mzYxtnZnK"
      },
      "execution_count": null,
      "outputs": []
    },
    {
      "cell_type": "code",
      "source": [
        "pipeline = make_pipeline(SuperVectorizer(), RandomForestClassifier(n_estimators=50 , min_samples_split = 4, min_samples_leaf = 1 ,warm_start = True ,random_state = 4, class_weight= 'balanced_subsample', verbose = 10, n_jobs = 5))"
      ],
      "metadata": {
        "id": "rwRlhpQCnmRS"
      },
      "execution_count": null,
      "outputs": []
    },
    {
      "cell_type": "code",
      "source": [
        "pipeline.fit(text , y)"
      ],
      "metadata": {
        "id": "YjZg9bXCn2rc",
        "colab": {
          "base_uri": "https://localhost:8080/"
        },
        "outputId": "ccaea9c4-c093-4145-8c2a-f88570b56780"
      },
      "execution_count": null,
      "outputs": [
        {
          "output_type": "stream",
          "name": "stderr",
          "text": [
            "/usr/local/lib/python3.7/dist-packages/sklearn/ensemble/_forest.py:766: UserWarning: class_weight presets \"balanced\" or \"balanced_subsample\" are not recommended for warm_start if the fitted data differs from the full dataset. In order to use \"balanced\" weights, use compute_class_weight (\"balanced\", classes, y). In place of y you can use a large enough sample of the full training set target to properly estimate the class frequency distributions. Pass the resulting weights as the class_weight parameter.\n",
            "  'class_weight presets \"balanced\" or '\n",
            "[Parallel(n_jobs=5)]: Using backend ThreadingBackend with 5 concurrent workers.\n",
            "[Parallel(n_jobs=5)]: Done   3 tasks      | elapsed:    0.1s\n"
          ]
        },
        {
          "output_type": "stream",
          "name": "stdout",
          "text": [
            "building tree 1 of 50\n",
            "building tree 2 of 50\n",
            "building tree 3 of 50\n",
            "building tree 4 of 50\n",
            "building tree 5 of 50\n",
            "building tree 6 of 50\n",
            "building tree 7 of 50\n",
            "building tree 8 of 50building tree 9 of 50\n",
            "\n",
            "building tree 10 of 50\n",
            "building tree 11 of 50\n",
            "building tree 12 of 50\n",
            "building tree 13 of 50\n",
            "building tree 14 of 50\n",
            "building tree 15 of 50\n",
            "building tree 16 of 50\n",
            "building tree 17 of 50\n",
            "building tree 18 of 50\n",
            "building tree 19 of 50\n",
            "building tree 20 of 50\n",
            "building tree 21 of 50\n"
          ]
        },
        {
          "output_type": "stream",
          "name": "stderr",
          "text": [
            "[Parallel(n_jobs=5)]: Done   8 tasks      | elapsed:    0.3s\n",
            "[Parallel(n_jobs=5)]: Done  15 tasks      | elapsed:    0.4s\n"
          ]
        },
        {
          "output_type": "stream",
          "name": "stdout",
          "text": [
            "building tree 22 of 50\n",
            "building tree 23 of 50\n",
            "building tree 24 of 50\n",
            "building tree 25 of 50\n",
            "building tree 26 of 50building tree 27 of 50\n",
            "\n",
            "building tree 28 of 50\n",
            "building tree 29 of 50\n",
            "building tree 30 of 50building tree 31 of 50\n",
            "\n"
          ]
        },
        {
          "output_type": "stream",
          "name": "stderr",
          "text": [
            "[Parallel(n_jobs=5)]: Done  22 tasks      | elapsed:    0.5s\n"
          ]
        },
        {
          "output_type": "stream",
          "name": "stdout",
          "text": [
            "building tree 32 of 50\n",
            "building tree 33 of 50\n",
            "building tree 34 of 50\n",
            "building tree 35 of 50\n",
            "building tree 36 of 50\n",
            "building tree 37 of 50\n",
            "building tree 38 of 50building tree 39 of 50\n",
            "\n",
            "building tree 40 of 50\n",
            "building tree 41 of 50\n"
          ]
        },
        {
          "output_type": "stream",
          "name": "stderr",
          "text": [
            "[Parallel(n_jobs=5)]: Done  31 tasks      | elapsed:    0.8s\n",
            "[Parallel(n_jobs=5)]: Done  40 tasks      | elapsed:    0.9s\n"
          ]
        },
        {
          "output_type": "stream",
          "name": "stdout",
          "text": [
            "building tree 42 of 50\n",
            "building tree 43 of 50\n",
            "building tree 44 of 50\n",
            "building tree 45 of 50\n",
            "building tree 46 of 50building tree 47 of 50\n",
            "\n",
            "building tree 48 of 50\n",
            "building tree 49 of 50\n",
            "building tree 50 of 50\n"
          ]
        },
        {
          "output_type": "stream",
          "name": "stderr",
          "text": [
            "[Parallel(n_jobs=5)]: Done  47 out of  50 | elapsed:    1.1s remaining:    0.1s\n",
            "[Parallel(n_jobs=5)]: Done  50 out of  50 | elapsed:    1.1s finished\n"
          ]
        },
        {
          "output_type": "execute_result",
          "data": {
            "text/plain": [
              "Pipeline(steps=[('supervectorizer', SuperVectorizer()),\n",
              "                ('randomforestclassifier',\n",
              "                 RandomForestClassifier(class_weight='balanced_subsample',\n",
              "                                        min_samples_split=4, n_estimators=50,\n",
              "                                        n_jobs=5, random_state=4, verbose=10,\n",
              "                                        warm_start=True))])"
            ]
          },
          "metadata": {},
          "execution_count": 69
        }
      ]
    },
    {
      "cell_type": "code",
      "source": [
        "y_predict = pipeline.predict(text1)"
      ],
      "metadata": {
        "id": "OwejBUWRokiO",
        "colab": {
          "base_uri": "https://localhost:8080/"
        },
        "outputId": "28fe1b8d-b3cf-45f9-a811-d289bc0ba531"
      },
      "execution_count": null,
      "outputs": [
        {
          "output_type": "stream",
          "name": "stderr",
          "text": [
            "[Parallel(n_jobs=5)]: Using backend ThreadingBackend with 5 concurrent workers.\n",
            "[Parallel(n_jobs=5)]: Done   3 tasks      | elapsed:    0.0s\n",
            "[Parallel(n_jobs=5)]: Done   8 tasks      | elapsed:    0.0s\n",
            "[Parallel(n_jobs=5)]: Done  15 tasks      | elapsed:    0.0s\n",
            "[Parallel(n_jobs=5)]: Done  22 tasks      | elapsed:    0.0s\n",
            "[Parallel(n_jobs=5)]: Done  31 tasks      | elapsed:    0.0s\n",
            "[Parallel(n_jobs=5)]: Done  40 tasks      | elapsed:    0.0s\n",
            "[Parallel(n_jobs=5)]: Done  47 out of  50 | elapsed:    0.0s remaining:    0.0s\n",
            "[Parallel(n_jobs=5)]: Done  50 out of  50 | elapsed:    0.0s finished\n"
          ]
        }
      ]
    },
    {
      "cell_type": "code",
      "source": [
        "print(classification_report(y1, y_predict))"
      ],
      "metadata": {
        "id": "R0XyYi8Qp3Yh",
        "colab": {
          "base_uri": "https://localhost:8080/"
        },
        "outputId": "471241bf-ec75-4926-bc0d-d03888a3b127"
      },
      "execution_count": null,
      "outputs": [
        {
          "output_type": "stream",
          "name": "stdout",
          "text": [
            "              precision    recall  f1-score   support\n",
            "\n",
            "           0       0.86      0.95      0.90       536\n",
            "           1       0.58      0.31      0.41       118\n",
            "\n",
            "    accuracy                           0.83       654\n",
            "   macro avg       0.72      0.63      0.66       654\n",
            "weighted avg       0.81      0.83      0.81       654\n",
            "\n"
          ]
        }
      ]
    },
    {
      "cell_type": "markdown",
      "source": [
        "using pipeline in lr"
      ],
      "metadata": {
        "id": "RkgTfeGl2ERC"
      }
    },
    {
      "cell_type": "code",
      "source": [
        "pipeline1 = make_pipeline(SuperVectorizer(), linear_model.LogisticRegression(C=200.0,penalty= 'l2',solver = 'saga',multi_class = 'ovr', warm_start = True) )"
      ],
      "metadata": {
        "id": "bG6MKzLq2QuE"
      },
      "execution_count": null,
      "outputs": []
    },
    {
      "cell_type": "code",
      "source": [
        "pipeline1.fit(text , y)"
      ],
      "metadata": {
        "id": "F-0_mC7F3BaG",
        "colab": {
          "base_uri": "https://localhost:8080/"
        },
        "outputId": "0338bf1f-c846-4a9c-9e58-56fd1ea5c0a1"
      },
      "execution_count": null,
      "outputs": [
        {
          "output_type": "stream",
          "name": "stderr",
          "text": [
            "/usr/local/lib/python3.7/dist-packages/sklearn/linear_model/_sag.py:354: ConvergenceWarning: The max_iter was reached which means the coef_ did not converge\n",
            "  ConvergenceWarning,\n"
          ]
        },
        {
          "output_type": "execute_result",
          "data": {
            "text/plain": [
              "Pipeline(steps=[('supervectorizer', SuperVectorizer()),\n",
              "                ('logisticregression',\n",
              "                 LogisticRegression(C=200.0, multi_class='ovr', solver='saga',\n",
              "                                    warm_start=True))])"
            ]
          },
          "metadata": {},
          "execution_count": 73
        }
      ]
    },
    {
      "cell_type": "code",
      "source": [
        "y_predict = pipeline1.predict(text1)"
      ],
      "metadata": {
        "id": "3NQO7Dv-3Fgd"
      },
      "execution_count": null,
      "outputs": []
    },
    {
      "cell_type": "code",
      "source": [
        "print(classification_report(y1, y_predict))"
      ],
      "metadata": {
        "id": "yQ4MnCuX3hlv",
        "colab": {
          "base_uri": "https://localhost:8080/"
        },
        "outputId": "a036d01d-4b32-4bde-b399-8b2bcc117746"
      },
      "execution_count": null,
      "outputs": [
        {
          "output_type": "stream",
          "name": "stdout",
          "text": [
            "              precision    recall  f1-score   support\n",
            "\n",
            "           0       0.84      0.97      0.90       536\n",
            "           1       0.56      0.19      0.28       118\n",
            "\n",
            "    accuracy                           0.83       654\n",
            "   macro avg       0.70      0.58      0.59       654\n",
            "weighted avg       0.79      0.83      0.79       654\n",
            "\n"
          ]
        }
      ]
    },
    {
      "cell_type": "markdown",
      "source": [
        "svm using pipeline"
      ],
      "metadata": {
        "id": "SHMDnDdv4CXm"
      }
    },
    {
      "cell_type": "code",
      "source": [
        "pipeline = make_pipeline(SuperVectorizer(),tree.DecisionTreeClassifier(splitter = 'random',min_samples_split = 3, random_state = 4, criterion = 'gini'))"
      ],
      "metadata": {
        "id": "-sDCKBpT4IPQ"
      },
      "execution_count": null,
      "outputs": []
    },
    {
      "cell_type": "code",
      "source": [
        "pipeline.fit(text , y)\n",
        "y_predict = pipeline.predict(text1)\n",
        "print(classification_report(y1, y_predict))"
      ],
      "metadata": {
        "colab": {
          "base_uri": "https://localhost:8080/"
        },
        "id": "w1l5Mnb94v9P",
        "outputId": "e9c6ea68-076b-498c-80d4-be68aeb35d55"
      },
      "execution_count": null,
      "outputs": [
        {
          "output_type": "stream",
          "name": "stdout",
          "text": [
            "              precision    recall  f1-score   support\n",
            "\n",
            "           0       0.88      0.82      0.85       536\n",
            "           1       0.37      0.48      0.42       118\n",
            "\n",
            "    accuracy                           0.76       654\n",
            "   macro avg       0.62      0.65      0.63       654\n",
            "weighted avg       0.79      0.76      0.77       654\n",
            "\n"
          ]
        }
      ]
    },
    {
      "cell_type": "markdown",
      "source": [
        "using xbgclassifier"
      ],
      "metadata": {
        "id": "ncpUD5AdpFkF"
      }
    },
    {
      "cell_type": "code",
      "source": [
        "from xgboost import XGBClassifier"
      ],
      "metadata": {
        "id": "o7e3nO2zpNIw"
      },
      "execution_count": null,
      "outputs": []
    },
    {
      "cell_type": "code",
      "source": [
        "xgbc = XGBClassifier(max_delta_step=10.0, max_depth=20,\n",
        "              n_estimators=100)"
      ],
      "metadata": {
        "id": "ssataPoAnK6r"
      },
      "execution_count": null,
      "outputs": []
    },
    {
      "cell_type": "code",
      "source": [
        "xgbc.fit(response,y)"
      ],
      "metadata": {
        "id": "cBEYzeFXpbkg"
      },
      "execution_count": null,
      "outputs": []
    },
    {
      "cell_type": "code",
      "source": [
        "y_predict = xgbc.predict(response1)"
      ],
      "metadata": {
        "id": "SK-7Oz0nqJwL"
      },
      "execution_count": null,
      "outputs": []
    },
    {
      "cell_type": "code",
      "source": [
        "print(classification_report(y1, y_predict))"
      ],
      "metadata": {
        "id": "or_aFlOzqZFX"
      },
      "execution_count": null,
      "outputs": []
    },
    {
      "cell_type": "code",
      "source": [
        "param_grid = [{ 'n_estimators' : [100 , 120 , 90] , 'max_depth' : [15 , 20 , 17 ,22] , 'min_child_weight' : [1.5 , 1.8 , 2.0 , 2.2 , 2.4] , 'max_delta_step' : [9.5 , 9.8 , 10.0 , 10.5 , 11.0]}]"
      ],
      "metadata": {
        "id": "UltfLwN2RCcR"
      },
      "execution_count": null,
      "outputs": []
    },
    {
      "cell_type": "code",
      "source": [
        "from sklearn.metrics import f1_score, make_scorer\n",
        "fone_score = f1_score"
      ],
      "metadata": {
        "id": "3FpIUC0sTJeE"
      },
      "execution_count": null,
      "outputs": []
    },
    {
      "cell_type": "code",
      "source": [
        "from sklearn.model_selection import GridSearchCV\n",
        "grid_search = GridSearchCV( xgbc , param_grid , cv =3 , scoring = 'accuracy', return_train_score= True , verbose = 10 )"
      ],
      "metadata": {
        "id": "UUO0cXZqSCUG"
      },
      "execution_count": null,
      "outputs": []
    },
    {
      "cell_type": "code",
      "source": [
        "grid_search.fit(response , y)"
      ],
      "metadata": {
        "id": "5_XUiKmETIEb"
      },
      "execution_count": null,
      "outputs": []
    },
    {
      "cell_type": "code",
      "source": [
        "final_model = grid_search.best_estimator_"
      ],
      "metadata": {
        "id": "XI1mCpAQp1k_"
      },
      "execution_count": null,
      "outputs": []
    },
    {
      "cell_type": "code",
      "source": [
        "final_model"
      ],
      "metadata": {
        "id": "6P0V0Bq6qbOk"
      },
      "execution_count": null,
      "outputs": []
    },
    {
      "cell_type": "code",
      "source": [
        "y_predict = final_model.predict(response1)"
      ],
      "metadata": {
        "id": "BAiFLjyKp5xG"
      },
      "execution_count": null,
      "outputs": []
    },
    {
      "cell_type": "code",
      "source": [
        "print(classification_report(y1, y_predict))"
      ],
      "metadata": {
        "id": "UhppO_dtqFI3"
      },
      "execution_count": null,
      "outputs": []
    }
  ],
  "metadata": {
    "colab": {
      "collapsed_sections": [],
      "name": "Dravidian.ipynb",
      "provenance": []
    },
    "kernelspec": {
      "display_name": "Python 3",
      "name": "python3"
    },
    "language_info": {
      "name": "python"
    },
    "widgets": {
      "application/vnd.jupyter.widget-state+json": {
        "c4a34807441341c0a0447841152c90cb": {
          "model_module": "@jupyter-widgets/controls",
          "model_name": "HBoxModel",
          "model_module_version": "1.5.0",
          "state": {
            "_dom_classes": [],
            "_model_module": "@jupyter-widgets/controls",
            "_model_module_version": "1.5.0",
            "_model_name": "HBoxModel",
            "_view_count": null,
            "_view_module": "@jupyter-widgets/controls",
            "_view_module_version": "1.5.0",
            "_view_name": "HBoxView",
            "box_style": "",
            "children": [
              "IPY_MODEL_ac3bfc8ed1a047258046a4091c381da4",
              "IPY_MODEL_154b6db2181048a5b3397ebdbc5e1038",
              "IPY_MODEL_d47c48ea0c5144acbe290586386aab3a"
            ],
            "layout": "IPY_MODEL_828f21263dbd479e8f48c5117b5af1e5"
          }
        },
        "ac3bfc8ed1a047258046a4091c381da4": {
          "model_module": "@jupyter-widgets/controls",
          "model_name": "HTMLModel",
          "model_module_version": "1.5.0",
          "state": {
            "_dom_classes": [],
            "_model_module": "@jupyter-widgets/controls",
            "_model_module_version": "1.5.0",
            "_model_name": "HTMLModel",
            "_view_count": null,
            "_view_module": "@jupyter-widgets/controls",
            "_view_module_version": "1.5.0",
            "_view_name": "HTMLView",
            "description": "",
            "description_tooltip": null,
            "layout": "IPY_MODEL_03428cc4a1b1489e87dc820c4d845283",
            "placeholder": "​",
            "style": "IPY_MODEL_aa84c972229c4feca27c95312744ae49",
            "value": "Downloading https://raw.githubusercontent.com/stanfordnlp/stanza-resources/main/resources_1.4.0.json: "
          }
        },
        "154b6db2181048a5b3397ebdbc5e1038": {
          "model_module": "@jupyter-widgets/controls",
          "model_name": "FloatProgressModel",
          "model_module_version": "1.5.0",
          "state": {
            "_dom_classes": [],
            "_model_module": "@jupyter-widgets/controls",
            "_model_module_version": "1.5.0",
            "_model_name": "FloatProgressModel",
            "_view_count": null,
            "_view_module": "@jupyter-widgets/controls",
            "_view_module_version": "1.5.0",
            "_view_name": "ProgressView",
            "bar_style": "success",
            "description": "",
            "description_tooltip": null,
            "layout": "IPY_MODEL_e2d32b7b82d34429b8997e893e16a83e",
            "max": 25998,
            "min": 0,
            "orientation": "horizontal",
            "style": "IPY_MODEL_10dc48e34596462ba975c10a945abae8",
            "value": 25998
          }
        },
        "d47c48ea0c5144acbe290586386aab3a": {
          "model_module": "@jupyter-widgets/controls",
          "model_name": "HTMLModel",
          "model_module_version": "1.5.0",
          "state": {
            "_dom_classes": [],
            "_model_module": "@jupyter-widgets/controls",
            "_model_module_version": "1.5.0",
            "_model_name": "HTMLModel",
            "_view_count": null,
            "_view_module": "@jupyter-widgets/controls",
            "_view_module_version": "1.5.0",
            "_view_name": "HTMLView",
            "description": "",
            "description_tooltip": null,
            "layout": "IPY_MODEL_064ed1eef1ba418f94a662ab4350bd5f",
            "placeholder": "​",
            "style": "IPY_MODEL_e9d36f3ae7204c16b073dce6aa153351",
            "value": " 154k/? [00:00&lt;00:00, 3.48MB/s]"
          }
        },
        "828f21263dbd479e8f48c5117b5af1e5": {
          "model_module": "@jupyter-widgets/base",
          "model_name": "LayoutModel",
          "model_module_version": "1.2.0",
          "state": {
            "_model_module": "@jupyter-widgets/base",
            "_model_module_version": "1.2.0",
            "_model_name": "LayoutModel",
            "_view_count": null,
            "_view_module": "@jupyter-widgets/base",
            "_view_module_version": "1.2.0",
            "_view_name": "LayoutView",
            "align_content": null,
            "align_items": null,
            "align_self": null,
            "border": null,
            "bottom": null,
            "display": null,
            "flex": null,
            "flex_flow": null,
            "grid_area": null,
            "grid_auto_columns": null,
            "grid_auto_flow": null,
            "grid_auto_rows": null,
            "grid_column": null,
            "grid_gap": null,
            "grid_row": null,
            "grid_template_areas": null,
            "grid_template_columns": null,
            "grid_template_rows": null,
            "height": null,
            "justify_content": null,
            "justify_items": null,
            "left": null,
            "margin": null,
            "max_height": null,
            "max_width": null,
            "min_height": null,
            "min_width": null,
            "object_fit": null,
            "object_position": null,
            "order": null,
            "overflow": null,
            "overflow_x": null,
            "overflow_y": null,
            "padding": null,
            "right": null,
            "top": null,
            "visibility": null,
            "width": null
          }
        },
        "03428cc4a1b1489e87dc820c4d845283": {
          "model_module": "@jupyter-widgets/base",
          "model_name": "LayoutModel",
          "model_module_version": "1.2.0",
          "state": {
            "_model_module": "@jupyter-widgets/base",
            "_model_module_version": "1.2.0",
            "_model_name": "LayoutModel",
            "_view_count": null,
            "_view_module": "@jupyter-widgets/base",
            "_view_module_version": "1.2.0",
            "_view_name": "LayoutView",
            "align_content": null,
            "align_items": null,
            "align_self": null,
            "border": null,
            "bottom": null,
            "display": null,
            "flex": null,
            "flex_flow": null,
            "grid_area": null,
            "grid_auto_columns": null,
            "grid_auto_flow": null,
            "grid_auto_rows": null,
            "grid_column": null,
            "grid_gap": null,
            "grid_row": null,
            "grid_template_areas": null,
            "grid_template_columns": null,
            "grid_template_rows": null,
            "height": null,
            "justify_content": null,
            "justify_items": null,
            "left": null,
            "margin": null,
            "max_height": null,
            "max_width": null,
            "min_height": null,
            "min_width": null,
            "object_fit": null,
            "object_position": null,
            "order": null,
            "overflow": null,
            "overflow_x": null,
            "overflow_y": null,
            "padding": null,
            "right": null,
            "top": null,
            "visibility": null,
            "width": null
          }
        },
        "aa84c972229c4feca27c95312744ae49": {
          "model_module": "@jupyter-widgets/controls",
          "model_name": "DescriptionStyleModel",
          "model_module_version": "1.5.0",
          "state": {
            "_model_module": "@jupyter-widgets/controls",
            "_model_module_version": "1.5.0",
            "_model_name": "DescriptionStyleModel",
            "_view_count": null,
            "_view_module": "@jupyter-widgets/base",
            "_view_module_version": "1.2.0",
            "_view_name": "StyleView",
            "description_width": ""
          }
        },
        "e2d32b7b82d34429b8997e893e16a83e": {
          "model_module": "@jupyter-widgets/base",
          "model_name": "LayoutModel",
          "model_module_version": "1.2.0",
          "state": {
            "_model_module": "@jupyter-widgets/base",
            "_model_module_version": "1.2.0",
            "_model_name": "LayoutModel",
            "_view_count": null,
            "_view_module": "@jupyter-widgets/base",
            "_view_module_version": "1.2.0",
            "_view_name": "LayoutView",
            "align_content": null,
            "align_items": null,
            "align_self": null,
            "border": null,
            "bottom": null,
            "display": null,
            "flex": null,
            "flex_flow": null,
            "grid_area": null,
            "grid_auto_columns": null,
            "grid_auto_flow": null,
            "grid_auto_rows": null,
            "grid_column": null,
            "grid_gap": null,
            "grid_row": null,
            "grid_template_areas": null,
            "grid_template_columns": null,
            "grid_template_rows": null,
            "height": null,
            "justify_content": null,
            "justify_items": null,
            "left": null,
            "margin": null,
            "max_height": null,
            "max_width": null,
            "min_height": null,
            "min_width": null,
            "object_fit": null,
            "object_position": null,
            "order": null,
            "overflow": null,
            "overflow_x": null,
            "overflow_y": null,
            "padding": null,
            "right": null,
            "top": null,
            "visibility": null,
            "width": null
          }
        },
        "10dc48e34596462ba975c10a945abae8": {
          "model_module": "@jupyter-widgets/controls",
          "model_name": "ProgressStyleModel",
          "model_module_version": "1.5.0",
          "state": {
            "_model_module": "@jupyter-widgets/controls",
            "_model_module_version": "1.5.0",
            "_model_name": "ProgressStyleModel",
            "_view_count": null,
            "_view_module": "@jupyter-widgets/base",
            "_view_module_version": "1.2.0",
            "_view_name": "StyleView",
            "bar_color": null,
            "description_width": ""
          }
        },
        "064ed1eef1ba418f94a662ab4350bd5f": {
          "model_module": "@jupyter-widgets/base",
          "model_name": "LayoutModel",
          "model_module_version": "1.2.0",
          "state": {
            "_model_module": "@jupyter-widgets/base",
            "_model_module_version": "1.2.0",
            "_model_name": "LayoutModel",
            "_view_count": null,
            "_view_module": "@jupyter-widgets/base",
            "_view_module_version": "1.2.0",
            "_view_name": "LayoutView",
            "align_content": null,
            "align_items": null,
            "align_self": null,
            "border": null,
            "bottom": null,
            "display": null,
            "flex": null,
            "flex_flow": null,
            "grid_area": null,
            "grid_auto_columns": null,
            "grid_auto_flow": null,
            "grid_auto_rows": null,
            "grid_column": null,
            "grid_gap": null,
            "grid_row": null,
            "grid_template_areas": null,
            "grid_template_columns": null,
            "grid_template_rows": null,
            "height": null,
            "justify_content": null,
            "justify_items": null,
            "left": null,
            "margin": null,
            "max_height": null,
            "max_width": null,
            "min_height": null,
            "min_width": null,
            "object_fit": null,
            "object_position": null,
            "order": null,
            "overflow": null,
            "overflow_x": null,
            "overflow_y": null,
            "padding": null,
            "right": null,
            "top": null,
            "visibility": null,
            "width": null
          }
        },
        "e9d36f3ae7204c16b073dce6aa153351": {
          "model_module": "@jupyter-widgets/controls",
          "model_name": "DescriptionStyleModel",
          "model_module_version": "1.5.0",
          "state": {
            "_model_module": "@jupyter-widgets/controls",
            "_model_module_version": "1.5.0",
            "_model_name": "DescriptionStyleModel",
            "_view_count": null,
            "_view_module": "@jupyter-widgets/base",
            "_view_module_version": "1.2.0",
            "_view_name": "StyleView",
            "description_width": ""
          }
        },
        "c7b7e013bbf24f3fa3ba8cac21f41508": {
          "model_module": "@jupyter-widgets/controls",
          "model_name": "HBoxModel",
          "model_module_version": "1.5.0",
          "state": {
            "_dom_classes": [],
            "_model_module": "@jupyter-widgets/controls",
            "_model_module_version": "1.5.0",
            "_model_name": "HBoxModel",
            "_view_count": null,
            "_view_module": "@jupyter-widgets/controls",
            "_view_module_version": "1.5.0",
            "_view_name": "HBoxView",
            "box_style": "",
            "children": [
              "IPY_MODEL_18c0af9393524d519aacbdfc5e5637ea",
              "IPY_MODEL_0ec996d3e9b0425f89f79da84f9b4c56",
              "IPY_MODEL_8d2900ad16f74077af34b4a5232170cc"
            ],
            "layout": "IPY_MODEL_f9b39decbbf24e679d8979c229007a45"
          }
        },
        "18c0af9393524d519aacbdfc5e5637ea": {
          "model_module": "@jupyter-widgets/controls",
          "model_name": "HTMLModel",
          "model_module_version": "1.5.0",
          "state": {
            "_dom_classes": [],
            "_model_module": "@jupyter-widgets/controls",
            "_model_module_version": "1.5.0",
            "_model_name": "HTMLModel",
            "_view_count": null,
            "_view_module": "@jupyter-widgets/controls",
            "_view_module_version": "1.5.0",
            "_view_name": "HTMLView",
            "description": "",
            "description_tooltip": null,
            "layout": "IPY_MODEL_1ea46be46e604b2abcf56be4ac6b5dd5",
            "placeholder": "​",
            "style": "IPY_MODEL_b01c82eae2084c4399ecdfdd8c24e6c4",
            "value": "Downloading https://huggingface.co/stanfordnlp/stanza-ta/resolve/v1.4.0/models/default.zip: 100%"
          }
        },
        "0ec996d3e9b0425f89f79da84f9b4c56": {
          "model_module": "@jupyter-widgets/controls",
          "model_name": "FloatProgressModel",
          "model_module_version": "1.5.0",
          "state": {
            "_dom_classes": [],
            "_model_module": "@jupyter-widgets/controls",
            "_model_module_version": "1.5.0",
            "_model_name": "FloatProgressModel",
            "_view_count": null,
            "_view_module": "@jupyter-widgets/controls",
            "_view_module_version": "1.5.0",
            "_view_name": "ProgressView",
            "bar_style": "success",
            "description": "",
            "description_tooltip": null,
            "layout": "IPY_MODEL_85cb7f8ac7f94e9ca61856079edb63bd",
            "max": 376702899,
            "min": 0,
            "orientation": "horizontal",
            "style": "IPY_MODEL_1606eded219b43c0933a4f73c9f06403",
            "value": 376702899
          }
        },
        "8d2900ad16f74077af34b4a5232170cc": {
          "model_module": "@jupyter-widgets/controls",
          "model_name": "HTMLModel",
          "model_module_version": "1.5.0",
          "state": {
            "_dom_classes": [],
            "_model_module": "@jupyter-widgets/controls",
            "_model_module_version": "1.5.0",
            "_model_name": "HTMLModel",
            "_view_count": null,
            "_view_module": "@jupyter-widgets/controls",
            "_view_module_version": "1.5.0",
            "_view_name": "HTMLView",
            "description": "",
            "description_tooltip": null,
            "layout": "IPY_MODEL_da777c4506024a60a10ba70115747046",
            "placeholder": "​",
            "style": "IPY_MODEL_a2a82b29d9334463935aa20d26109357",
            "value": " 377M/377M [00:03&lt;00:00, 102MB/s]"
          }
        },
        "f9b39decbbf24e679d8979c229007a45": {
          "model_module": "@jupyter-widgets/base",
          "model_name": "LayoutModel",
          "model_module_version": "1.2.0",
          "state": {
            "_model_module": "@jupyter-widgets/base",
            "_model_module_version": "1.2.0",
            "_model_name": "LayoutModel",
            "_view_count": null,
            "_view_module": "@jupyter-widgets/base",
            "_view_module_version": "1.2.0",
            "_view_name": "LayoutView",
            "align_content": null,
            "align_items": null,
            "align_self": null,
            "border": null,
            "bottom": null,
            "display": null,
            "flex": null,
            "flex_flow": null,
            "grid_area": null,
            "grid_auto_columns": null,
            "grid_auto_flow": null,
            "grid_auto_rows": null,
            "grid_column": null,
            "grid_gap": null,
            "grid_row": null,
            "grid_template_areas": null,
            "grid_template_columns": null,
            "grid_template_rows": null,
            "height": null,
            "justify_content": null,
            "justify_items": null,
            "left": null,
            "margin": null,
            "max_height": null,
            "max_width": null,
            "min_height": null,
            "min_width": null,
            "object_fit": null,
            "object_position": null,
            "order": null,
            "overflow": null,
            "overflow_x": null,
            "overflow_y": null,
            "padding": null,
            "right": null,
            "top": null,
            "visibility": null,
            "width": null
          }
        },
        "1ea46be46e604b2abcf56be4ac6b5dd5": {
          "model_module": "@jupyter-widgets/base",
          "model_name": "LayoutModel",
          "model_module_version": "1.2.0",
          "state": {
            "_model_module": "@jupyter-widgets/base",
            "_model_module_version": "1.2.0",
            "_model_name": "LayoutModel",
            "_view_count": null,
            "_view_module": "@jupyter-widgets/base",
            "_view_module_version": "1.2.0",
            "_view_name": "LayoutView",
            "align_content": null,
            "align_items": null,
            "align_self": null,
            "border": null,
            "bottom": null,
            "display": null,
            "flex": null,
            "flex_flow": null,
            "grid_area": null,
            "grid_auto_columns": null,
            "grid_auto_flow": null,
            "grid_auto_rows": null,
            "grid_column": null,
            "grid_gap": null,
            "grid_row": null,
            "grid_template_areas": null,
            "grid_template_columns": null,
            "grid_template_rows": null,
            "height": null,
            "justify_content": null,
            "justify_items": null,
            "left": null,
            "margin": null,
            "max_height": null,
            "max_width": null,
            "min_height": null,
            "min_width": null,
            "object_fit": null,
            "object_position": null,
            "order": null,
            "overflow": null,
            "overflow_x": null,
            "overflow_y": null,
            "padding": null,
            "right": null,
            "top": null,
            "visibility": null,
            "width": null
          }
        },
        "b01c82eae2084c4399ecdfdd8c24e6c4": {
          "model_module": "@jupyter-widgets/controls",
          "model_name": "DescriptionStyleModel",
          "model_module_version": "1.5.0",
          "state": {
            "_model_module": "@jupyter-widgets/controls",
            "_model_module_version": "1.5.0",
            "_model_name": "DescriptionStyleModel",
            "_view_count": null,
            "_view_module": "@jupyter-widgets/base",
            "_view_module_version": "1.2.0",
            "_view_name": "StyleView",
            "description_width": ""
          }
        },
        "85cb7f8ac7f94e9ca61856079edb63bd": {
          "model_module": "@jupyter-widgets/base",
          "model_name": "LayoutModel",
          "model_module_version": "1.2.0",
          "state": {
            "_model_module": "@jupyter-widgets/base",
            "_model_module_version": "1.2.0",
            "_model_name": "LayoutModel",
            "_view_count": null,
            "_view_module": "@jupyter-widgets/base",
            "_view_module_version": "1.2.0",
            "_view_name": "LayoutView",
            "align_content": null,
            "align_items": null,
            "align_self": null,
            "border": null,
            "bottom": null,
            "display": null,
            "flex": null,
            "flex_flow": null,
            "grid_area": null,
            "grid_auto_columns": null,
            "grid_auto_flow": null,
            "grid_auto_rows": null,
            "grid_column": null,
            "grid_gap": null,
            "grid_row": null,
            "grid_template_areas": null,
            "grid_template_columns": null,
            "grid_template_rows": null,
            "height": null,
            "justify_content": null,
            "justify_items": null,
            "left": null,
            "margin": null,
            "max_height": null,
            "max_width": null,
            "min_height": null,
            "min_width": null,
            "object_fit": null,
            "object_position": null,
            "order": null,
            "overflow": null,
            "overflow_x": null,
            "overflow_y": null,
            "padding": null,
            "right": null,
            "top": null,
            "visibility": null,
            "width": null
          }
        },
        "1606eded219b43c0933a4f73c9f06403": {
          "model_module": "@jupyter-widgets/controls",
          "model_name": "ProgressStyleModel",
          "model_module_version": "1.5.0",
          "state": {
            "_model_module": "@jupyter-widgets/controls",
            "_model_module_version": "1.5.0",
            "_model_name": "ProgressStyleModel",
            "_view_count": null,
            "_view_module": "@jupyter-widgets/base",
            "_view_module_version": "1.2.0",
            "_view_name": "StyleView",
            "bar_color": null,
            "description_width": ""
          }
        },
        "da777c4506024a60a10ba70115747046": {
          "model_module": "@jupyter-widgets/base",
          "model_name": "LayoutModel",
          "model_module_version": "1.2.0",
          "state": {
            "_model_module": "@jupyter-widgets/base",
            "_model_module_version": "1.2.0",
            "_model_name": "LayoutModel",
            "_view_count": null,
            "_view_module": "@jupyter-widgets/base",
            "_view_module_version": "1.2.0",
            "_view_name": "LayoutView",
            "align_content": null,
            "align_items": null,
            "align_self": null,
            "border": null,
            "bottom": null,
            "display": null,
            "flex": null,
            "flex_flow": null,
            "grid_area": null,
            "grid_auto_columns": null,
            "grid_auto_flow": null,
            "grid_auto_rows": null,
            "grid_column": null,
            "grid_gap": null,
            "grid_row": null,
            "grid_template_areas": null,
            "grid_template_columns": null,
            "grid_template_rows": null,
            "height": null,
            "justify_content": null,
            "justify_items": null,
            "left": null,
            "margin": null,
            "max_height": null,
            "max_width": null,
            "min_height": null,
            "min_width": null,
            "object_fit": null,
            "object_position": null,
            "order": null,
            "overflow": null,
            "overflow_x": null,
            "overflow_y": null,
            "padding": null,
            "right": null,
            "top": null,
            "visibility": null,
            "width": null
          }
        },
        "a2a82b29d9334463935aa20d26109357": {
          "model_module": "@jupyter-widgets/controls",
          "model_name": "DescriptionStyleModel",
          "model_module_version": "1.5.0",
          "state": {
            "_model_module": "@jupyter-widgets/controls",
            "_model_module_version": "1.5.0",
            "_model_name": "DescriptionStyleModel",
            "_view_count": null,
            "_view_module": "@jupyter-widgets/base",
            "_view_module_version": "1.2.0",
            "_view_name": "StyleView",
            "description_width": ""
          }
        },
        "85972b18351d49d1be4fb0e2a531acfc": {
          "model_module": "@jupyter-widgets/controls",
          "model_name": "HBoxModel",
          "model_module_version": "1.5.0",
          "state": {
            "_dom_classes": [],
            "_model_module": "@jupyter-widgets/controls",
            "_model_module_version": "1.5.0",
            "_model_name": "HBoxModel",
            "_view_count": null,
            "_view_module": "@jupyter-widgets/controls",
            "_view_module_version": "1.5.0",
            "_view_name": "HBoxView",
            "box_style": "",
            "children": [
              "IPY_MODEL_baea9c87f3424335a5f362c4a940d53c",
              "IPY_MODEL_7f463908d0374733bfb98414f6333b94",
              "IPY_MODEL_65014023d5c549fe96c54225a67b2dcd"
            ],
            "layout": "IPY_MODEL_1982a567a85b40818f76282a287c2cf0"
          }
        },
        "baea9c87f3424335a5f362c4a940d53c": {
          "model_module": "@jupyter-widgets/controls",
          "model_name": "HTMLModel",
          "model_module_version": "1.5.0",
          "state": {
            "_dom_classes": [],
            "_model_module": "@jupyter-widgets/controls",
            "_model_module_version": "1.5.0",
            "_model_name": "HTMLModel",
            "_view_count": null,
            "_view_module": "@jupyter-widgets/controls",
            "_view_module_version": "1.5.0",
            "_view_name": "HTMLView",
            "description": "",
            "description_tooltip": null,
            "layout": "IPY_MODEL_8910895b8d8e44c89a81cc7c97f0caa5",
            "placeholder": "​",
            "style": "IPY_MODEL_566acf52de0b4d1ab7c68530d74c936f",
            "value": "Downloading https://raw.githubusercontent.com/stanfordnlp/stanza-resources/main/resources_1.4.0.json: "
          }
        },
        "7f463908d0374733bfb98414f6333b94": {
          "model_module": "@jupyter-widgets/controls",
          "model_name": "FloatProgressModel",
          "model_module_version": "1.5.0",
          "state": {
            "_dom_classes": [],
            "_model_module": "@jupyter-widgets/controls",
            "_model_module_version": "1.5.0",
            "_model_name": "FloatProgressModel",
            "_view_count": null,
            "_view_module": "@jupyter-widgets/controls",
            "_view_module_version": "1.5.0",
            "_view_name": "ProgressView",
            "bar_style": "success",
            "description": "",
            "description_tooltip": null,
            "layout": "IPY_MODEL_dbfb7eb66c5c41518462344d77b72094",
            "max": 25998,
            "min": 0,
            "orientation": "horizontal",
            "style": "IPY_MODEL_af315fcc84bf4237a0941b6fdfe93247",
            "value": 25998
          }
        },
        "65014023d5c549fe96c54225a67b2dcd": {
          "model_module": "@jupyter-widgets/controls",
          "model_name": "HTMLModel",
          "model_module_version": "1.5.0",
          "state": {
            "_dom_classes": [],
            "_model_module": "@jupyter-widgets/controls",
            "_model_module_version": "1.5.0",
            "_model_name": "HTMLModel",
            "_view_count": null,
            "_view_module": "@jupyter-widgets/controls",
            "_view_module_version": "1.5.0",
            "_view_name": "HTMLView",
            "description": "",
            "description_tooltip": null,
            "layout": "IPY_MODEL_11cdea487ab24e4cb72bd3f6ffc77c44",
            "placeholder": "​",
            "style": "IPY_MODEL_56152265a9cd454cb5e639238cba8471",
            "value": " 154k/? [00:00&lt;00:00, 2.54MB/s]"
          }
        },
        "1982a567a85b40818f76282a287c2cf0": {
          "model_module": "@jupyter-widgets/base",
          "model_name": "LayoutModel",
          "model_module_version": "1.2.0",
          "state": {
            "_model_module": "@jupyter-widgets/base",
            "_model_module_version": "1.2.0",
            "_model_name": "LayoutModel",
            "_view_count": null,
            "_view_module": "@jupyter-widgets/base",
            "_view_module_version": "1.2.0",
            "_view_name": "LayoutView",
            "align_content": null,
            "align_items": null,
            "align_self": null,
            "border": null,
            "bottom": null,
            "display": null,
            "flex": null,
            "flex_flow": null,
            "grid_area": null,
            "grid_auto_columns": null,
            "grid_auto_flow": null,
            "grid_auto_rows": null,
            "grid_column": null,
            "grid_gap": null,
            "grid_row": null,
            "grid_template_areas": null,
            "grid_template_columns": null,
            "grid_template_rows": null,
            "height": null,
            "justify_content": null,
            "justify_items": null,
            "left": null,
            "margin": null,
            "max_height": null,
            "max_width": null,
            "min_height": null,
            "min_width": null,
            "object_fit": null,
            "object_position": null,
            "order": null,
            "overflow": null,
            "overflow_x": null,
            "overflow_y": null,
            "padding": null,
            "right": null,
            "top": null,
            "visibility": null,
            "width": null
          }
        },
        "8910895b8d8e44c89a81cc7c97f0caa5": {
          "model_module": "@jupyter-widgets/base",
          "model_name": "LayoutModel",
          "model_module_version": "1.2.0",
          "state": {
            "_model_module": "@jupyter-widgets/base",
            "_model_module_version": "1.2.0",
            "_model_name": "LayoutModel",
            "_view_count": null,
            "_view_module": "@jupyter-widgets/base",
            "_view_module_version": "1.2.0",
            "_view_name": "LayoutView",
            "align_content": null,
            "align_items": null,
            "align_self": null,
            "border": null,
            "bottom": null,
            "display": null,
            "flex": null,
            "flex_flow": null,
            "grid_area": null,
            "grid_auto_columns": null,
            "grid_auto_flow": null,
            "grid_auto_rows": null,
            "grid_column": null,
            "grid_gap": null,
            "grid_row": null,
            "grid_template_areas": null,
            "grid_template_columns": null,
            "grid_template_rows": null,
            "height": null,
            "justify_content": null,
            "justify_items": null,
            "left": null,
            "margin": null,
            "max_height": null,
            "max_width": null,
            "min_height": null,
            "min_width": null,
            "object_fit": null,
            "object_position": null,
            "order": null,
            "overflow": null,
            "overflow_x": null,
            "overflow_y": null,
            "padding": null,
            "right": null,
            "top": null,
            "visibility": null,
            "width": null
          }
        },
        "566acf52de0b4d1ab7c68530d74c936f": {
          "model_module": "@jupyter-widgets/controls",
          "model_name": "DescriptionStyleModel",
          "model_module_version": "1.5.0",
          "state": {
            "_model_module": "@jupyter-widgets/controls",
            "_model_module_version": "1.5.0",
            "_model_name": "DescriptionStyleModel",
            "_view_count": null,
            "_view_module": "@jupyter-widgets/base",
            "_view_module_version": "1.2.0",
            "_view_name": "StyleView",
            "description_width": ""
          }
        },
        "dbfb7eb66c5c41518462344d77b72094": {
          "model_module": "@jupyter-widgets/base",
          "model_name": "LayoutModel",
          "model_module_version": "1.2.0",
          "state": {
            "_model_module": "@jupyter-widgets/base",
            "_model_module_version": "1.2.0",
            "_model_name": "LayoutModel",
            "_view_count": null,
            "_view_module": "@jupyter-widgets/base",
            "_view_module_version": "1.2.0",
            "_view_name": "LayoutView",
            "align_content": null,
            "align_items": null,
            "align_self": null,
            "border": null,
            "bottom": null,
            "display": null,
            "flex": null,
            "flex_flow": null,
            "grid_area": null,
            "grid_auto_columns": null,
            "grid_auto_flow": null,
            "grid_auto_rows": null,
            "grid_column": null,
            "grid_gap": null,
            "grid_row": null,
            "grid_template_areas": null,
            "grid_template_columns": null,
            "grid_template_rows": null,
            "height": null,
            "justify_content": null,
            "justify_items": null,
            "left": null,
            "margin": null,
            "max_height": null,
            "max_width": null,
            "min_height": null,
            "min_width": null,
            "object_fit": null,
            "object_position": null,
            "order": null,
            "overflow": null,
            "overflow_x": null,
            "overflow_y": null,
            "padding": null,
            "right": null,
            "top": null,
            "visibility": null,
            "width": null
          }
        },
        "af315fcc84bf4237a0941b6fdfe93247": {
          "model_module": "@jupyter-widgets/controls",
          "model_name": "ProgressStyleModel",
          "model_module_version": "1.5.0",
          "state": {
            "_model_module": "@jupyter-widgets/controls",
            "_model_module_version": "1.5.0",
            "_model_name": "ProgressStyleModel",
            "_view_count": null,
            "_view_module": "@jupyter-widgets/base",
            "_view_module_version": "1.2.0",
            "_view_name": "StyleView",
            "bar_color": null,
            "description_width": ""
          }
        },
        "11cdea487ab24e4cb72bd3f6ffc77c44": {
          "model_module": "@jupyter-widgets/base",
          "model_name": "LayoutModel",
          "model_module_version": "1.2.0",
          "state": {
            "_model_module": "@jupyter-widgets/base",
            "_model_module_version": "1.2.0",
            "_model_name": "LayoutModel",
            "_view_count": null,
            "_view_module": "@jupyter-widgets/base",
            "_view_module_version": "1.2.0",
            "_view_name": "LayoutView",
            "align_content": null,
            "align_items": null,
            "align_self": null,
            "border": null,
            "bottom": null,
            "display": null,
            "flex": null,
            "flex_flow": null,
            "grid_area": null,
            "grid_auto_columns": null,
            "grid_auto_flow": null,
            "grid_auto_rows": null,
            "grid_column": null,
            "grid_gap": null,
            "grid_row": null,
            "grid_template_areas": null,
            "grid_template_columns": null,
            "grid_template_rows": null,
            "height": null,
            "justify_content": null,
            "justify_items": null,
            "left": null,
            "margin": null,
            "max_height": null,
            "max_width": null,
            "min_height": null,
            "min_width": null,
            "object_fit": null,
            "object_position": null,
            "order": null,
            "overflow": null,
            "overflow_x": null,
            "overflow_y": null,
            "padding": null,
            "right": null,
            "top": null,
            "visibility": null,
            "width": null
          }
        },
        "56152265a9cd454cb5e639238cba8471": {
          "model_module": "@jupyter-widgets/controls",
          "model_name": "DescriptionStyleModel",
          "model_module_version": "1.5.0",
          "state": {
            "_model_module": "@jupyter-widgets/controls",
            "_model_module_version": "1.5.0",
            "_model_name": "DescriptionStyleModel",
            "_view_count": null,
            "_view_module": "@jupyter-widgets/base",
            "_view_module_version": "1.2.0",
            "_view_name": "StyleView",
            "description_width": ""
          }
        }
      }
    }
  },
  "nbformat": 4,
  "nbformat_minor": 0
}